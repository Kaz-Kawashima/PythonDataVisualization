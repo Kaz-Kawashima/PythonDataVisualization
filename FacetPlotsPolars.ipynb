{
 "cells": [
  {
   "cell_type": "code",
   "execution_count": 1,
   "id": "b2879d06-619f-4ac2-bca5-6c4bff49c1d4",
   "metadata": {},
   "outputs": [
    {
     "data": {
      "text/html": [
       "<div><style>\n",
       ".dataframe > thead > tr,\n",
       ".dataframe > tbody > tr {\n",
       "  text-align: right;\n",
       "  white-space: pre-wrap;\n",
       "}\n",
       "</style>\n",
       "<small>shape: (156, 12)</small><table border=\"1\" class=\"dataframe\"><thead><tr><th>PassengerId</th><th>Survived</th><th>Pclass</th><th>Name</th><th>Sex</th><th>Age</th><th>SibSp</th><th>Parch</th><th>Ticket</th><th>Fare</th><th>Cabin</th><th>Embarked</th></tr><tr><td>i64</td><td>bool</td><td>i64</td><td>str</td><td>str</td><td>f64</td><td>i64</td><td>i64</td><td>str</td><td>f64</td><td>str</td><td>cat</td></tr></thead><tbody><tr><td>1</td><td>false</td><td>3</td><td>&quot;Braund, Mr. Owen Harris&quot;</td><td>&quot;male&quot;</td><td>22.0</td><td>1</td><td>0</td><td>&quot;A/5 21171&quot;</td><td>7.25</td><td>&quot;NA&quot;</td><td>&quot;S&quot;</td></tr><tr><td>2</td><td>true</td><td>1</td><td>&quot;Cumings, Mrs. John Bradley (Fl…</td><td>&quot;female&quot;</td><td>38.0</td><td>1</td><td>0</td><td>&quot;PC 17599&quot;</td><td>71.2833</td><td>&quot;C85&quot;</td><td>&quot;C&quot;</td></tr><tr><td>3</td><td>true</td><td>3</td><td>&quot;Heikkinen, Miss. Laina&quot;</td><td>&quot;female&quot;</td><td>26.0</td><td>0</td><td>0</td><td>&quot;STON/O2. 3101282&quot;</td><td>7.925</td><td>&quot;NA&quot;</td><td>&quot;S&quot;</td></tr><tr><td>4</td><td>true</td><td>1</td><td>&quot;Futrelle, Mrs. Jacques Heath (…</td><td>&quot;female&quot;</td><td>35.0</td><td>1</td><td>0</td><td>&quot;113803&quot;</td><td>53.1</td><td>&quot;C123&quot;</td><td>&quot;S&quot;</td></tr><tr><td>5</td><td>false</td><td>3</td><td>&quot;Allen, Mr. William Henry&quot;</td><td>&quot;male&quot;</td><td>35.0</td><td>0</td><td>0</td><td>&quot;373450&quot;</td><td>8.05</td><td>&quot;NA&quot;</td><td>&quot;S&quot;</td></tr><tr><td>&hellip;</td><td>&hellip;</td><td>&hellip;</td><td>&hellip;</td><td>&hellip;</td><td>&hellip;</td><td>&hellip;</td><td>&hellip;</td><td>&hellip;</td><td>&hellip;</td><td>&hellip;</td><td>&hellip;</td></tr><tr><td>152</td><td>true</td><td>1</td><td>&quot;Pears, Mrs. Thomas (Edith Wear…</td><td>&quot;female&quot;</td><td>22.0</td><td>1</td><td>0</td><td>&quot;113776&quot;</td><td>66.6</td><td>&quot;C2&quot;</td><td>&quot;S&quot;</td></tr><tr><td>153</td><td>false</td><td>3</td><td>&quot;Meo, Mr. Alfonzo&quot;</td><td>&quot;male&quot;</td><td>55.5</td><td>0</td><td>0</td><td>&quot;A.5. 11206&quot;</td><td>8.05</td><td>&quot;NA&quot;</td><td>&quot;S&quot;</td></tr><tr><td>154</td><td>false</td><td>3</td><td>&quot;van Billiard, Mr. Austin Blyle…</td><td>&quot;male&quot;</td><td>40.5</td><td>0</td><td>2</td><td>&quot;A/5. 851&quot;</td><td>14.5</td><td>&quot;NA&quot;</td><td>&quot;S&quot;</td></tr><tr><td>155</td><td>false</td><td>3</td><td>&quot;Olsen, Mr. Ole Martin&quot;</td><td>&quot;male&quot;</td><td>null</td><td>0</td><td>0</td><td>&quot;Fa 265302&quot;</td><td>7.3125</td><td>&quot;NA&quot;</td><td>&quot;S&quot;</td></tr><tr><td>156</td><td>false</td><td>1</td><td>&quot;Williams, Mr. Charles Duane&quot;</td><td>&quot;male&quot;</td><td>51.0</td><td>0</td><td>1</td><td>&quot;PC 17597&quot;</td><td>61.3792</td><td>&quot;NA&quot;</td><td>&quot;C&quot;</td></tr></tbody></table></div>"
      ],
      "text/plain": [
       "shape: (156, 12)\n",
       "┌─────────────┬──────────┬────────┬──────────────────┬───┬────────────┬─────────┬───────┬──────────┐\n",
       "│ PassengerId ┆ Survived ┆ Pclass ┆ Name             ┆ … ┆ Ticket     ┆ Fare    ┆ Cabin ┆ Embarked │\n",
       "│ ---         ┆ ---      ┆ ---    ┆ ---              ┆   ┆ ---        ┆ ---     ┆ ---   ┆ ---      │\n",
       "│ i64         ┆ bool     ┆ i64    ┆ str              ┆   ┆ str        ┆ f64     ┆ str   ┆ cat      │\n",
       "╞═════════════╪══════════╪════════╪══════════════════╪═══╪════════════╪═════════╪═══════╪══════════╡\n",
       "│ 1           ┆ false    ┆ 3      ┆ Braund, Mr. Owen ┆ … ┆ A/5 21171  ┆ 7.25    ┆ NA    ┆ S        │\n",
       "│             ┆          ┆        ┆ Harris           ┆   ┆            ┆         ┆       ┆          │\n",
       "│ 2           ┆ true     ┆ 1      ┆ Cumings, Mrs.    ┆ … ┆ PC 17599   ┆ 71.2833 ┆ C85   ┆ C        │\n",
       "│             ┆          ┆        ┆ John Bradley     ┆   ┆            ┆         ┆       ┆          │\n",
       "│             ┆          ┆        ┆ (Fl…             ┆   ┆            ┆         ┆       ┆          │\n",
       "│ 3           ┆ true     ┆ 3      ┆ Heikkinen, Miss. ┆ … ┆ STON/O2.   ┆ 7.925   ┆ NA    ┆ S        │\n",
       "│             ┆          ┆        ┆ Laina            ┆   ┆ 3101282    ┆         ┆       ┆          │\n",
       "│ 4           ┆ true     ┆ 1      ┆ Futrelle, Mrs.   ┆ … ┆ 113803     ┆ 53.1    ┆ C123  ┆ S        │\n",
       "│             ┆          ┆        ┆ Jacques Heath (… ┆   ┆            ┆         ┆       ┆          │\n",
       "│ 5           ┆ false    ┆ 3      ┆ Allen, Mr.       ┆ … ┆ 373450     ┆ 8.05    ┆ NA    ┆ S        │\n",
       "│             ┆          ┆        ┆ William Henry    ┆   ┆            ┆         ┆       ┆          │\n",
       "│ …           ┆ …        ┆ …      ┆ …                ┆ … ┆ …          ┆ …       ┆ …     ┆ …        │\n",
       "│ 152         ┆ true     ┆ 1      ┆ Pears, Mrs.      ┆ … ┆ 113776     ┆ 66.6    ┆ C2    ┆ S        │\n",
       "│             ┆          ┆        ┆ Thomas (Edith    ┆   ┆            ┆         ┆       ┆          │\n",
       "│             ┆          ┆        ┆ Wear…            ┆   ┆            ┆         ┆       ┆          │\n",
       "│ 153         ┆ false    ┆ 3      ┆ Meo, Mr. Alfonzo ┆ … ┆ A.5. 11206 ┆ 8.05    ┆ NA    ┆ S        │\n",
       "│ 154         ┆ false    ┆ 3      ┆ van Billiard,    ┆ … ┆ A/5. 851   ┆ 14.5    ┆ NA    ┆ S        │\n",
       "│             ┆          ┆        ┆ Mr. Austin       ┆   ┆            ┆         ┆       ┆          │\n",
       "│             ┆          ┆        ┆ Blyle…           ┆   ┆            ┆         ┆       ┆          │\n",
       "│ 155         ┆ false    ┆ 3      ┆ Olsen, Mr. Ole   ┆ … ┆ Fa 265302  ┆ 7.3125  ┆ NA    ┆ S        │\n",
       "│             ┆          ┆        ┆ Martin           ┆   ┆            ┆         ┆       ┆          │\n",
       "│ 156         ┆ false    ┆ 1      ┆ Williams, Mr.    ┆ … ┆ PC 17597   ┆ 61.3792 ┆ NA    ┆ C        │\n",
       "│             ┆          ┆        ┆ Charles Duane    ┆   ┆            ┆         ┆       ┆          │\n",
       "└─────────────┴──────────┴────────┴──────────────────┴───┴────────────┴─────────┴───────┴──────────┘"
      ]
     },
     "execution_count": 1,
     "metadata": {},
     "output_type": "execute_result"
    }
   ],
   "source": [
    "import polars as pl\n",
    "\n",
    "url = \"https://raw.githubusercontent.com/plotly/datasets/master/titanic.csv\"\n",
    "data = pl.read_csv(url)\n",
    "data = data.with_columns(pl.col(\"Survived\").cast(pl.Boolean))\n",
    "# Embarked に null が入っているので文字列で埋める\n",
    "data = data.fill_null(\"NA\")\n",
    "# strをカテゴリカルに変更\n",
    "data = data.with_columns(pl.col(\"Embarked\").cast(pl.Categorical))\n",
    "# enum = pl.Enum([\"C\",\"Q\",\"S\",\"NA\"])\n",
    "# data = data.with_columns(pl.col(\"Embarked\").cast(enum))\n",
    "\n",
    "\n",
    "data"
   ]
  },
  {
   "cell_type": "markdown",
   "id": "4f3985f3-d714-492a-a7f6-429600ef842c",
   "metadata": {},
   "source": [
    "## Seaborn\n",
    "\n",
    "* countplot は order を指定しないと警告が出る（プロット自体は問題なくされる）\n",
    "* 積み上げグラフ内の hue_order が指定できない（オプションは指定可能なのだが、割合の計算がおかしくなる）\n",
    "  * data frame 側の並び順を変えてもダメなのが良くわからない…。\n",
    "* 必要なコード量は少なめ"
   ]
  },
  {
   "cell_type": "code",
   "execution_count": 2,
   "id": "6f042b7f-c961-42d9-b272-4b902c579c63",
   "metadata": {},
   "outputs": [
    {
     "data": {
      "text/plain": [
       "<seaborn.axisgrid.FacetGrid at 0x225e5095a30>"
      ]
     },
     "execution_count": 2,
     "metadata": {},
     "output_type": "execute_result"
    },
    {
     "data": {
      "image/png": "[encoded data removed]",
      "text/plain": [
       "<Figure size 681.611x900 with 6 Axes>"
      ]
     },
     "metadata": {},
     "output_type": "display_data"
    }
   ],
   "source": [
    "import seaborn as sns\n",
    "g = sns.FacetGrid(data,\n",
    "                  col=\"Sex\",\n",
    "                  row=\"Pclass\",\n",
    "                  hue=\"Embarked\",\n",
    "                  col_order=[\"female\",\"male\"]) #hue_order=[\"C\",\"Q\",\"S\",\"NA\"] は表示が崩れた\n",
    "g.map(sns.countplot,\n",
    "      \"Survived\",\n",
    "      order=[False, True]) #order を指定しないと警告が出る\n",
    "g.add_legend()"
   ]
  },
  {
   "cell_type": "markdown",
   "id": "d5372e4b-1ff2-473c-9968-f7ec128719fe",
   "metadata": {},
   "source": [
    "## plotnine\n",
    "\n",
    "- Embarked が string だとうまく行かなかったが、 `Categorical` か `Enum` ならOK\n",
    "- `Enum` にしておけば、その並び順でプロットされる"
   ]
  },
  {
   "cell_type": "code",
   "execution_count": 3,
   "id": "81223a66-0ef2-4861-9709-28a7c66efcaa",
   "metadata": {},
   "outputs": [
    {
     "data": {
      "image/png": "[encoded data removed]"
     },
     "metadata": {
      "image/png": {
       "height": 500,
       "width": 500
      }
     },
     "output_type": "display_data"
    }
   ],
   "source": [
    "from plotnine import *\n",
    "from plotnine.data import *\n",
    "\n",
    "# カテゴリカルの並び順を決めてしまえばプロットもそれに従う\n",
    "enum = pl.Enum([\"C\",\"Q\",\"S\",\"NA\"])\n",
    "data2 = data.clone()\n",
    "data2 = data2.with_columns(pl.col(\"Embarked\").cast(enum))\n",
    "\n",
    "g  = ggplot(data2, aes(x='Survived', fill=\"Embarked\"))\n",
    "g += geom_bar()\n",
    "g += facet_grid(\"Pclass ~ Sex\")\n",
    "g += theme(figure_size=(5, 5))\n",
    "g\n",
    "\n",
    "# data3"
   ]
  },
  {
   "cell_type": "markdown",
   "id": "05c9f8f4-b315-4d11-95c6-d1c05c22d905",
   "metadata": {},
   "source": [
    "## Plotly Express\n",
    "\n",
    "* 並び順を指定しないと、Pclass も 3>1>2 みたいな並び順になる（多い順？）\n",
    "  * 並び順の指定を dict 一か所でまとめられるのは便利 \n",
    "* 積み上げグラフ内の順番は変更できないようだ\n",
    "* Facet も histogram 内で指定するのが特徴的\n",
    "\n",
    "https://plotly.com/python/facet-plots/"
   ]
  },
  {
   "cell_type": "code",
   "execution_count": 4,
   "id": "94ac00ea-6158-48b1-84b0-4d236e05c4f9",
   "metadata": {},
   "outputs": [
    {
     "data": {
      "application/vnd.plotly.v1+json": {
       "config": {
        "plotlyServerURL": "https://plot.ly"
       },
       "data": [
        {
         "alignmentgroup": "True",
         "bingroup": "x",
         "histfunc": "count",
         "hovertemplate": "Embarked=C<br>Pclass=1<br>Sex=female<br>Survived=%{x}<br>count=%{y}<extra></extra>",
         "legendgroup": "C",
         "marker": {
          "color": "#636efa",
          "pattern": {
           "shape": ""
          }
         },
         "name": "C",
         "offsetgroup": "C",
         "orientation": "v",
         "showlegend": true,
         "type": "histogram",
         "x": [
          true,
          true,
          true
         ],
         "xaxis": "x5",
         "yaxis": "y5"
        },
        {
         "alignmentgroup": "True",
         "bingroup": "x",
         "histfunc": "count",
         "hovertemplate": "Embarked=C<br>Pclass=1<br>Sex=male<br>Survived=%{x}<br>count=%{y}<extra></extra>",
         "legendgroup": "C",
         "marker": {
          "color": "#636efa",
          "pattern": {
           "shape": ""
          }
         },
         "name": "C",
         "offsetgroup": "C",
         "orientation": "v",
         "showlegend": false,
         "type": "histogram",
         "x": [
          false,
          false,
          false,
          false,
          false,
          true,
          false,
          false,
          false
         ],
         "xaxis": "x6",
         "yaxis": "y6"
        },
        {
         "alignmentgroup": "True",
         "bingroup": "x",
         "histfunc": "count",
         "hovertemplate": "Embarked=C<br>Pclass=2<br>Sex=female<br>Survived=%{x}<br>count=%{y}<extra></extra>",
         "legendgroup": "C",
         "marker": {
          "color": "#636efa",
          "pattern": {
           "shape": ""
          }
         },
         "name": "C",
         "offsetgroup": "C",
         "orientation": "v",
         "showlegend": false,
         "type": "histogram",
         "x": [
          true,
          true
         ],
         "xaxis": "x3",
         "yaxis": "y3"
        },
        {
         "alignmentgroup": "True",
         "bingroup": "x",
         "histfunc": "count",
         "hovertemplate": "Embarked=C<br>Pclass=2<br>Sex=male<br>Survived=%{x}<br>count=%{y}<extra></extra>",
         "legendgroup": "C",
         "marker": {
          "color": "#636efa",
          "pattern": {
           "shape": ""
          }
         },
         "name": "C",
         "offsetgroup": "C",
         "orientation": "v",
         "showlegend": false,
         "type": "histogram",
         "x": [
          false,
          false
         ],
         "xaxis": "x4",
         "yaxis": "y4"
        },
        {
         "alignmentgroup": "True",
         "bingroup": "x",
         "histfunc": "count",
         "hovertemplate": "Embarked=C<br>Pclass=3<br>Sex=female<br>Survived=%{x}<br>count=%{y}<extra></extra>",
         "legendgroup": "C",
         "marker": {
          "color": "#636efa",
          "pattern": {
           "shape": ""
          }
         },
         "name": "C",
         "offsetgroup": "C",
         "orientation": "v",
         "showlegend": false,
         "type": "histogram",
         "x": [
          true,
          true,
          false,
          false,
          true,
          false
         ],
         "xaxis": "x",
         "yaxis": "y"
        },
        {
         "alignmentgroup": "True",
         "bingroup": "x",
         "histfunc": "count",
         "hovertemplate": "Embarked=C<br>Pclass=3<br>Sex=male<br>Survived=%{x}<br>count=%{y}<extra></extra>",
         "legendgroup": "C",
         "marker": {
          "color": "#636efa",
          "pattern": {
           "shape": ""
          }
         },
         "name": "C",
         "offsetgroup": "C",
         "orientation": "v",
         "showlegend": false,
         "type": "histogram",
         "x": [
          false,
          true,
          false,
          false,
          false,
          false,
          true,
          false,
          true,
          false
         ],
         "xaxis": "x2",
         "yaxis": "y2"
        },
        {
         "alignmentgroup": "True",
         "bingroup": "x",
         "histfunc": "count",
         "hovertemplate": "Embarked=Q<br>Pclass=3<br>Sex=female<br>Survived=%{x}<br>count=%{y}<extra></extra>",
         "legendgroup": "Q",
         "marker": {
          "color": "#EF553B",
          "pattern": {
           "shape": ""
          }
         },
         "name": "Q",
         "offsetgroup": "Q",
         "orientation": "v",
         "showlegend": true,
         "type": "histogram",
         "x": [
          true,
          true,
          true,
          true,
          true,
          true,
          true
         ],
         "xaxis": "x",
         "yaxis": "y"
        },
        {
         "alignmentgroup": "True",
         "bingroup": "x",
         "histfunc": "count",
         "hovertemplate": "Embarked=Q<br>Pclass=3<br>Sex=male<br>Survived=%{x}<br>count=%{y}<extra></extra>",
         "legendgroup": "Q",
         "marker": {
          "color": "#EF553B",
          "pattern": {
           "shape": ""
          }
         },
         "name": "Q",
         "offsetgroup": "Q",
         "orientation": "v",
         "showlegend": false,
         "type": "histogram",
         "x": [
          false,
          false,
          false,
          false,
          false,
          false
         ],
         "xaxis": "x2",
         "yaxis": "y2"
        },
        {
         "alignmentgroup": "True",
         "bingroup": "x",
         "histfunc": "count",
         "hovertemplate": "Embarked=S<br>Pclass=1<br>Sex=female<br>Survived=%{x}<br>count=%{y}<extra></extra>",
         "legendgroup": "S",
         "marker": {
          "color": "#00cc96",
          "pattern": {
           "shape": ""
          }
         },
         "name": "S",
         "offsetgroup": "S",
         "orientation": "v",
         "showlegend": true,
         "type": "histogram",
         "x": [
          true,
          true,
          true,
          true,
          true
         ],
         "xaxis": "x5",
         "yaxis": "y5"
        },
        {
         "alignmentgroup": "True",
         "bingroup": "x",
         "histfunc": "count",
         "hovertemplate": "Embarked=S<br>Pclass=1<br>Sex=male<br>Survived=%{x}<br>count=%{y}<extra></extra>",
         "legendgroup": "S",
         "marker": {
          "color": "#00cc96",
          "pattern": {
           "shape": ""
          }
         },
         "name": "S",
         "offsetgroup": "S",
         "orientation": "v",
         "showlegend": false,
         "type": "histogram",
         "x": [
          false,
          true,
          false,
          false,
          true,
          false,
          false,
          false,
          false,
          false,
          false,
          false
         ],
         "xaxis": "x6",
         "yaxis": "y6"
        },
        {
         "alignmentgroup": "True",
         "bingroup": "x",
         "histfunc": "count",
         "hovertemplate": "Embarked=S<br>Pclass=2<br>Sex=female<br>Survived=%{x}<br>count=%{y}<extra></extra>",
         "legendgroup": "S",
         "marker": {
          "color": "#00cc96",
          "pattern": {
           "shape": ""
          }
         },
         "name": "S",
         "offsetgroup": "S",
         "orientation": "v",
         "showlegend": false,
         "type": "histogram",
         "x": [
          true,
          false,
          true,
          true,
          true,
          true,
          true,
          true,
          true,
          true
         ],
         "xaxis": "x3",
         "yaxis": "y3"
        },
        {
         "alignmentgroup": "True",
         "bingroup": "x",
         "histfunc": "count",
         "hovertemplate": "Embarked=S<br>Pclass=2<br>Sex=male<br>Survived=%{x}<br>count=%{y}<extra></extra>",
         "legendgroup": "S",
         "marker": {
          "color": "#00cc96",
          "pattern": {
           "shape": ""
          }
         },
         "name": "S",
         "offsetgroup": "S",
         "orientation": "v",
         "showlegend": false,
         "type": "histogram",
         "x": [
          true,
          false,
          true,
          false,
          false,
          false,
          true,
          false,
          false,
          false,
          false,
          false,
          false,
          false,
          false,
          false
         ],
         "xaxis": "x4",
         "yaxis": "y4"
        },
        {
         "alignmentgroup": "True",
         "bingroup": "x",
         "histfunc": "count",
         "hovertemplate": "Embarked=S<br>Pclass=3<br>Sex=female<br>Survived=%{x}<br>count=%{y}<extra></extra>",
         "legendgroup": "S",
         "marker": {
          "color": "#00cc96",
          "pattern": {
           "shape": ""
          }
         },
         "name": "S",
         "offsetgroup": "S",
         "orientation": "v",
         "showlegend": false,
         "type": "histogram",
         "x": [
          true,
          true,
          true,
          false,
          false,
          false,
          true,
          false,
          false,
          false,
          true,
          false,
          true,
          true,
          false,
          true,
          false,
          false,
          false,
          true,
          true,
          false
         ],
         "xaxis": "x",
         "yaxis": "y"
        },
        {
         "alignmentgroup": "True",
         "bingroup": "x",
         "histfunc": "count",
         "hovertemplate": "Embarked=S<br>Pclass=3<br>Sex=male<br>Survived=%{x}<br>count=%{y}<extra></extra>",
         "legendgroup": "S",
         "marker": {
          "color": "#00cc96",
          "pattern": {
           "shape": ""
          }
         },
         "name": "S",
         "offsetgroup": "S",
         "orientation": "v",
         "showlegend": false,
         "type": "histogram",
         "x": [
          false,
          false,
          false,
          false,
          false,
          false,
          false,
          false,
          false,
          false,
          false,
          false,
          false,
          false,
          true,
          false,
          false,
          false,
          false,
          true,
          false,
          false,
          false,
          false,
          false,
          false,
          false,
          false,
          false,
          false,
          false,
          false,
          true,
          false,
          false,
          false,
          false,
          true,
          false,
          false,
          false,
          true,
          false,
          false,
          false
         ],
         "xaxis": "x2",
         "yaxis": "y2"
        },
        {
         "alignmentgroup": "True",
         "bingroup": "x",
         "histfunc": "count",
         "hovertemplate": "Embarked=NA<br>Pclass=1<br>Sex=female<br>Survived=%{x}<br>count=%{y}<extra></extra>",
         "legendgroup": "NA",
         "marker": {
          "color": "#ab63fa",
          "pattern": {
           "shape": ""
          }
         },
         "name": "NA",
         "offsetgroup": "NA",
         "orientation": "v",
         "showlegend": true,
         "type": "histogram",
         "x": [
          true
         ],
         "xaxis": "x5",
         "yaxis": "y5"
        }
       ],
       "layout": {
        "annotations": [
         {
          "font": {},
          "showarrow": false,
          "text": "Sex=female",
          "x": 0.24,
          "xanchor": "center",
          "xref": "paper",
          "y": 0.9999999999999998,
          "yanchor": "bottom",
          "yref": "paper"
         },
         {
          "font": {},
          "showarrow": false,
          "text": "Sex=male",
          "x": 0.74,
          "xanchor": "center",
          "xref": "paper",
          "y": 0.9999999999999998,
          "yanchor": "bottom",
          "yref": "paper"
         },
         {
          "font": {},
          "showarrow": false,
          "text": "Pclass=3",
          "textangle": 90,
          "x": 0.98,
          "xanchor": "left",
          "xref": "paper",
          "y": 0.15666666666666665,
          "yanchor": "middle",
          "yref": "paper"
         },
         {
          "font": {},
          "showarrow": false,
          "text": "Pclass=2",
          "textangle": 90,
          "x": 0.98,
          "xanchor": "left",
          "xref": "paper",
          "y": 0.4999999999999999,
          "yanchor": "middle",
          "yref": "paper"
         },
         {
          "font": {},
          "showarrow": false,
          "text": "Pclass=1",
          "textangle": 90,
          "x": 0.98,
          "xanchor": "left",
          "xref": "paper",
          "y": 0.8433333333333332,
          "yanchor": "middle",
          "yref": "paper"
         }
        ],
        "barmode": "stack",
        "height": 500,
        "legend": {
         "title": {
          "text": "Embarked"
         },
         "tracegroupgap": 0
        },
        "margin": {
         "t": 60
        },
        "template": {
         "data": {
          "bar": [
           {
            "error_x": {
             "color": "#2a3f5f"
            },
            "error_y": {
             "color": "#2a3f5f"
            },
            "marker": {
             "line": {
              "color": "#E5ECF6",
              "width": 0.5
             },
             "pattern": {
              "fillmode": "overlay",
              "size": 10,
              "solidity": 0.2
             }
            },
            "type": "bar"
           }
          ],
          "barpolar": [
           {
            "marker": {
             "line": {
              "color": "#E5ECF6",
              "width": 0.5
             },
             "pattern": {
              "fillmode": "overlay",
              "size": 10,
              "solidity": 0.2
             }
            },
            "type": "barpolar"
           }
          ],
          "carpet": [
           {
            "aaxis": {
             "endlinecolor": "#2a3f5f",
             "gridcolor": "white",
             "linecolor": "white",
             "minorgridcolor": "white",
             "startlinecolor": "#2a3f5f"
            },
            "baxis": {
             "endlinecolor": "#2a3f5f",
             "gridcolor": "white",
             "linecolor": "white",
             "minorgridcolor": "white",
             "startlinecolor": "#2a3f5f"
            },
            "type": "carpet"
           }
          ],
          "choropleth": [
           {
            "colorbar": {
             "outlinewidth": 0,
             "ticks": ""
            },
            "type": "choropleth"
           }
          ],
          "contour": [
           {
            "colorbar": {
             "outlinewidth": 0,
             "ticks": ""
            },
            "colorscale": [
             [
              0,
              "#0d0887"
             ],
             [
              0.1111111111111111,
              "#46039f"
             ],
             [
              0.2222222222222222,
              "#7201a8"
             ],
             [
              0.3333333333333333,
              "#9c179e"
             ],
             [
              0.4444444444444444,
              "#bd3786"
             ],
             [
              0.5555555555555556,
              "#d8576b"
             ],
             [
              0.6666666666666666,
              "#ed7953"
             ],
             [
              0.7777777777777778,
              "#fb9f3a"
             ],
             [
              0.8888888888888888,
              "#fdca26"
             ],
             [
              1,
              "#f0f921"
             ]
            ],
            "type": "contour"
           }
          ],
          "contourcarpet": [
           {
            "colorbar": {
             "outlinewidth": 0,
             "ticks": ""
            },
            "type": "contourcarpet"
           }
          ],
          "heatmap": [
           {
            "colorbar": {
             "outlinewidth": 0,
             "ticks": ""
            },
            "colorscale": [
             [
              0,
              "#0d0887"
             ],
             [
              0.1111111111111111,
              "#46039f"
             ],
             [
              0.2222222222222222,
              "#7201a8"
             ],
             [
              0.3333333333333333,
              "#9c179e"
             ],
             [
              0.4444444444444444,
              "#bd3786"
             ],
             [
              0.5555555555555556,
              "#d8576b"
             ],
             [
              0.6666666666666666,
              "#ed7953"
             ],
             [
              0.7777777777777778,
              "#fb9f3a"
             ],
             [
              0.8888888888888888,
              "#fdca26"
             ],
             [
              1,
              "#f0f921"
             ]
            ],
            "type": "heatmap"
           }
          ],
          "heatmapgl": [
           {
            "colorbar": {
             "outlinewidth": 0,
             "ticks": ""
            },
            "colorscale": [
             [
              0,
              "#0d0887"
             ],
             [
              0.1111111111111111,
              "#46039f"
             ],
             [
              0.2222222222222222,
              "#7201a8"
             ],
             [
              0.3333333333333333,
              "#9c179e"
             ],
             [
              0.4444444444444444,
              "#bd3786"
             ],
             [
              0.5555555555555556,
              "#d8576b"
             ],
             [
              0.6666666666666666,
              "#ed7953"
             ],
             [
              0.7777777777777778,
              "#fb9f3a"
             ],
             [
              0.8888888888888888,
              "#fdca26"
             ],
             [
              1,
              "#f0f921"
             ]
            ],
            "type": "heatmapgl"
           }
          ],
          "histogram": [
           {
            "marker": {
             "pattern": {
              "fillmode": "overlay",
              "size": 10,
              "solidity": 0.2
             }
            },
            "type": "histogram"
           }
          ],
          "histogram2d": [
           {
            "colorbar": {
             "outlinewidth": 0,
             "ticks": ""
            },
            "colorscale": [
             [
              0,
              "#0d0887"
             ],
             [
              0.1111111111111111,
              "#46039f"
             ],
             [
              0.2222222222222222,
              "#7201a8"
             ],
             [
              0.3333333333333333,
              "#9c179e"
             ],
             [
              0.4444444444444444,
              "#bd3786"
             ],
             [
              0.5555555555555556,
              "#d8576b"
             ],
             [
              0.6666666666666666,
              "#ed7953"
             ],
             [
              0.7777777777777778,
              "#fb9f3a"
             ],
             [
              0.8888888888888888,
              "#fdca26"
             ],
             [
              1,
              "#f0f921"
             ]
            ],
            "type": "histogram2d"
           }
          ],
          "histogram2dcontour": [
           {
            "colorbar": {
             "outlinewidth": 0,
             "ticks": ""
            },
            "colorscale": [
             [
              0,
              "#0d0887"
             ],
             [
              0.1111111111111111,
              "#46039f"
             ],
             [
              0.2222222222222222,
              "#7201a8"
             ],
             [
              0.3333333333333333,
              "#9c179e"
             ],
             [
              0.4444444444444444,
              "#bd3786"
             ],
             [
              0.5555555555555556,
              "#d8576b"
             ],
             [
              0.6666666666666666,
              "#ed7953"
             ],
             [
              0.7777777777777778,
              "#fb9f3a"
             ],
             [
              0.8888888888888888,
              "#fdca26"
             ],
             [
              1,
              "#f0f921"
             ]
            ],
            "type": "histogram2dcontour"
           }
          ],
          "mesh3d": [
           {
            "colorbar": {
             "outlinewidth": 0,
             "ticks": ""
            },
            "type": "mesh3d"
           }
          ],
          "parcoords": [
           {
            "line": {
             "colorbar": {
              "outlinewidth": 0,
              "ticks": ""
             }
            },
            "type": "parcoords"
           }
          ],
          "pie": [
           {
            "automargin": true,
            "type": "pie"
           }
          ],
          "scatter": [
           {
            "fillpattern": {
             "fillmode": "overlay",
             "size": 10,
             "solidity": 0.2
            },
            "type": "scatter"
           }
          ],
          "scatter3d": [
           {
            "line": {
             "colorbar": {
              "outlinewidth": 0,
              "ticks": ""
             }
            },
            "marker": {
             "colorbar": {
              "outlinewidth": 0,
              "ticks": ""
             }
            },
            "type": "scatter3d"
           }
          ],
          "scattercarpet": [
           {
            "marker": {
             "colorbar": {
              "outlinewidth": 0,
              "ticks": ""
             }
            },
            "type": "scattercarpet"
           }
          ],
          "scattergeo": [
           {
            "marker": {
             "colorbar": {
              "outlinewidth": 0,
              "ticks": ""
             }
            },
            "type": "scattergeo"
           }
          ],
          "scattergl": [
           {
            "marker": {
             "colorbar": {
              "outlinewidth": 0,
              "ticks": ""
             }
            },
            "type": "scattergl"
           }
          ],
          "scattermapbox": [
           {
            "marker": {
             "colorbar": {
              "outlinewidth": 0,
              "ticks": ""
             }
            },
            "type": "scattermapbox"
           }
          ],
          "scatterpolar": [
           {
            "marker": {
             "colorbar": {
              "outlinewidth": 0,
              "ticks": ""
             }
            },
            "type": "scatterpolar"
           }
          ],
          "scatterpolargl": [
           {
            "marker": {
             "colorbar": {
              "outlinewidth": 0,
              "ticks": ""
             }
            },
            "type": "scatterpolargl"
           }
          ],
          "scatterternary": [
           {
            "marker": {
             "colorbar": {
              "outlinewidth": 0,
              "ticks": ""
             }
            },
            "type": "scatterternary"
           }
          ],
          "surface": [
           {
            "colorbar": {
             "outlinewidth": 0,
             "ticks": ""
            },
            "colorscale": [
             [
              0,
              "#0d0887"
             ],
             [
              0.1111111111111111,
              "#46039f"
             ],
             [
              0.2222222222222222,
              "#7201a8"
             ],
             [
              0.3333333333333333,
              "#9c179e"
             ],
             [
              0.4444444444444444,
              "#bd3786"
             ],
             [
              0.5555555555555556,
              "#d8576b"
             ],
             [
              0.6666666666666666,
              "#ed7953"
             ],
             [
              0.7777777777777778,
              "#fb9f3a"
             ],
             [
              0.8888888888888888,
              "#fdca26"
             ],
             [
              1,
              "#f0f921"
             ]
            ],
            "type": "surface"
           }
          ],
          "table": [
           {
            "cells": {
             "fill": {
              "color": "#EBF0F8"
             },
             "line": {
              "color": "white"
             }
            },
            "header": {
             "fill": {
              "color": "#C8D4E3"
             },
             "line": {
              "color": "white"
             }
            },
            "type": "table"
           }
          ]
         },
         "layout": {
          "annotationdefaults": {
           "arrowcolor": "#2a3f5f",
           "arrowhead": 0,
           "arrowwidth": 1
          },
          "autotypenumbers": "strict",
          "coloraxis": {
           "colorbar": {
            "outlinewidth": 0,
            "ticks": ""
           }
          },
          "colorscale": {
           "diverging": [
            [
             0,
             "#8e0152"
            ],
            [
             0.1,
             "#c51b7d"
            ],
            [
             0.2,
             "#de77ae"
            ],
            [
             0.3,
             "#f1b6da"
            ],
            [
             0.4,
             "#fde0ef"
            ],
            [
             0.5,
             "#f7f7f7"
            ],
            [
             0.6,
             "#e6f5d0"
            ],
            [
             0.7,
             "#b8e186"
            ],
            [
             0.8,
             "#7fbc41"
            ],
            [
             0.9,
             "#4d9221"
            ],
            [
             1,
             "#276419"
            ]
           ],
           "sequential": [
            [
             0,
             "#0d0887"
            ],
            [
             0.1111111111111111,
             "#46039f"
            ],
            [
             0.2222222222222222,
             "#7201a8"
            ],
            [
             0.3333333333333333,
             "#9c179e"
            ],
            [
             0.4444444444444444,
             "#bd3786"
            ],
            [
             0.5555555555555556,
             "#d8576b"
            ],
            [
             0.6666666666666666,
             "#ed7953"
            ],
            [
             0.7777777777777778,
             "#fb9f3a"
            ],
            [
             0.8888888888888888,
             "#fdca26"
            ],
            [
             1,
             "#f0f921"
            ]
           ],
           "sequentialminus": [
            [
             0,
             "#0d0887"
            ],
            [
             0.1111111111111111,
             "#46039f"
            ],
            [
             0.2222222222222222,
             "#7201a8"
            ],
            [
             0.3333333333333333,
             "#9c179e"
            ],
            [
             0.4444444444444444,
             "#bd3786"
            ],
            [
             0.5555555555555556,
             "#d8576b"
            ],
            [
             0.6666666666666666,
             "#ed7953"
            ],
            [
             0.7777777777777778,
             "#fb9f3a"
            ],
            [
             0.8888888888888888,
             "#fdca26"
            ],
            [
             1,
             "#f0f921"
            ]
           ]
          },
          "colorway": [
           "#636efa",
           "#EF553B",
           "#00cc96",
           "#ab63fa",
           "#FFA15A",
           "#19d3f3",
           "#FF6692",
           "#B6E880",
           "#FF97FF",
           "#FECB52"
          ],
          "font": {
           "color": "#2a3f5f"
          },
          "geo": {
           "bgcolor": "white",
           "lakecolor": "white",
           "landcolor": "#E5ECF6",
           "showlakes": true,
           "showland": true,
           "subunitcolor": "white"
          },
          "hoverlabel": {
           "align": "left"
          },
          "hovermode": "closest",
          "mapbox": {
           "style": "light"
          },
          "paper_bgcolor": "white",
          "plot_bgcolor": "#E5ECF6",
          "polar": {
           "angularaxis": {
            "gridcolor": "white",
            "linecolor": "white",
            "ticks": ""
           },
           "bgcolor": "#E5ECF6",
           "radialaxis": {
            "gridcolor": "white",
            "linecolor": "white",
            "ticks": ""
           }
          },
          "scene": {
           "xaxis": {
            "backgroundcolor": "#E5ECF6",
            "gridcolor": "white",
            "gridwidth": 2,
            "linecolor": "white",
            "showbackground": true,
            "ticks": "",
            "zerolinecolor": "white"
           },
           "yaxis": {
            "backgroundcolor": "#E5ECF6",
            "gridcolor": "white",
            "gridwidth": 2,
            "linecolor": "white",
            "showbackground": true,
            "ticks": "",
            "zerolinecolor": "white"
           },
           "zaxis": {
            "backgroundcolor": "#E5ECF6",
            "gridcolor": "white",
            "gridwidth": 2,
            "linecolor": "white",
            "showbackground": true,
            "ticks": "",
            "zerolinecolor": "white"
           }
          },
          "shapedefaults": {
           "line": {
            "color": "#2a3f5f"
           }
          },
          "ternary": {
           "aaxis": {
            "gridcolor": "white",
            "linecolor": "white",
            "ticks": ""
           },
           "baxis": {
            "gridcolor": "white",
            "linecolor": "white",
            "ticks": ""
           },
           "bgcolor": "#E5ECF6",
           "caxis": {
            "gridcolor": "white",
            "linecolor": "white",
            "ticks": ""
           }
          },
          "title": {
           "x": 0.05
          },
          "xaxis": {
           "automargin": true,
           "gridcolor": "white",
           "linecolor": "white",
           "ticks": "",
           "title": {
            "standoff": 15
           },
           "zerolinecolor": "white",
           "zerolinewidth": 2
          },
          "yaxis": {
           "automargin": true,
           "gridcolor": "white",
           "linecolor": "white",
           "ticks": "",
           "title": {
            "standoff": 15
           },
           "zerolinecolor": "white",
           "zerolinewidth": 2
          }
         }
        },
        "width": 500,
        "xaxis": {
         "anchor": "y",
         "categoryarray": [
          false,
          true
         ],
         "categoryorder": "array",
         "domain": [
          0,
          0.48
         ],
         "title": {
          "text": "Survived"
         }
        },
        "xaxis2": {
         "anchor": "y2",
         "categoryarray": [
          false,
          true
         ],
         "categoryorder": "array",
         "domain": [
          0.5,
          0.98
         ],
         "matches": "x",
         "title": {
          "text": "Survived"
         }
        },
        "xaxis3": {
         "anchor": "y3",
         "domain": [
          0,
          0.48
         ],
         "matches": "x",
         "showticklabels": false
        },
        "xaxis4": {
         "anchor": "y4",
         "domain": [
          0.5,
          0.98
         ],
         "matches": "x",
         "showticklabels": false
        },
        "xaxis5": {
         "anchor": "y5",
         "domain": [
          0,
          0.48
         ],
         "matches": "x",
         "showticklabels": false
        },
        "xaxis6": {
         "anchor": "y6",
         "domain": [
          0.5,
          0.98
         ],
         "matches": "x",
         "showticklabels": false
        },
        "yaxis": {
         "anchor": "x",
         "domain": [
          0,
          0.3133333333333333
         ],
         "title": {
          "text": "count"
         }
        },
        "yaxis2": {
         "anchor": "x2",
         "domain": [
          0,
          0.3133333333333333
         ],
         "matches": "y",
         "showticklabels": false
        },
        "yaxis3": {
         "anchor": "x3",
         "domain": [
          0.34333333333333327,
          0.6566666666666665
         ],
         "matches": "y",
         "title": {
          "text": "count"
         }
        },
        "yaxis4": {
         "anchor": "x4",
         "domain": [
          0.34333333333333327,
          0.6566666666666665
         ],
         "matches": "y",
         "showticklabels": false
        },
        "yaxis5": {
         "anchor": "x5",
         "domain": [
          0.6866666666666665,
          0.9999999999999998
         ],
         "matches": "y",
         "title": {
          "text": "count"
         }
        },
        "yaxis6": {
         "anchor": "x6",
         "domain": [
          0.6866666666666665,
          0.9999999999999998
         ],
         "matches": "y",
         "showticklabels": false
        }
       }
      }
     },
     "metadata": {},
     "output_type": "display_data"
    }
   ],
   "source": [
    "import plotly.express as px\n",
    "\n",
    "fig = px.histogram(data,\n",
    "                   x=\"Survived\",\n",
    "                   histfunc=\"count\",\n",
    "                   color=\"Embarked\",\n",
    "                   barmode=\"stack\",\n",
    "                   facet_row=\"Pclass\",\n",
    "                   facet_col=\"Sex\",\n",
    "                   width=500,\n",
    "                   height=500,\n",
    "                   category_orders={\"Sex\": [\"female\", \"male\"],\n",
    "                                    \"Pclass\": [1,2,3],\n",
    "                                    \"Survived\":[False, True],\n",
    "                                    \"Embarked\":[\"C\",\"Q\",\"S\",\"NA\"]})\n",
    "fig.show()"
   ]
  },
  {
   "cell_type": "markdown",
   "id": "09ef5372-a5c1-4f55-8f6f-3281f3be688e",
   "metadata": {},
   "source": [
    "## Altair\n",
    "\n",
    "* 文字列の中に `count(Survived)` などと式を指定する必要があるのがあまり好きではない\n",
    "* オプションの指定は長いが構造的で覚えやすそう。でも長い。\n",
    "  * 並び順を指定しなくてよければ `alt.Color` などは　`color=\"\"` などとシンプルに書ける \n",
    "\n",
    "* [altair pandas value counts horizontal bar chart](https://stackoverflow.com/questions/62405935/altair-pandas-value-counts-horizontal-bar-chart)\n",
    "* [multiple column/row facet wrap in altair](https://stackoverflow.com/questions/50164001/multiple-column-row-facet-wrap-in-altair)\n",
    "* [Arrange facets in a grid](https://github.com/altair-viz/altair/issues/681)\n",
    "* [Custom order in facet](https://github.com/altair-viz/altair/issues/1703)\n",
    "  * Row/Colではうまくいかなかった。Colorには効いた。\n",
    "* [altair.Row](https://altair-viz.github.io/user_guide/generated/channels/altair.Row.html)\n",
    "  * \"ascending\"/\"descending\" は効いた"
   ]
  },
  {
   "cell_type": "code",
   "execution_count": 5,
   "id": "734f078b-954e-4a10-83b0-887dd3400a2b",
   "metadata": {},
   "outputs": [
    {
     "data": {
      "text/html": [
       "\n",
       "<style>\n",
       "  #altair-viz-aebf6b384e1c49f5be29381027054cd4.vega-embed {\n",
       "    width: 100%;\n",
       "    display: flex;\n",
       "  }\n",
       "\n",
       "  #altair-viz-aebf6b384e1c49f5be29381027054cd4.vega-embed details,\n",
       "  #altair-viz-aebf6b384e1c49f5be29381027054cd4.vega-embed details summary {\n",
       "    position: relative;\n",
       "  }\n",
       "</style>\n",
       "<div id=\"altair-viz-aebf6b384e1c49f5be29381027054cd4\"></div>\n",
       "<script type=\"text/javascript\">\n",
       "  var VEGA_DEBUG = (typeof VEGA_DEBUG == \"undefined\") ? {} : VEGA_DEBUG;\n",
       "  (function(spec, embedOpt){\n",
       "    let outputDiv = document.currentScript.previousElementSibling;\n",
       "    if (outputDiv.id !== \"altair-viz-aebf6b384e1c49f5be29381027054cd4\") {\n",
       "      outputDiv = document.getElementById(\"altair-viz-aebf6b384e1c49f5be29381027054cd4\");\n",
       "    }\n",
       "    const paths = {\n",
       "      \"vega\": \"https://cdn.jsdelivr.net/npm/vega@5?noext\",\n",
       "      \"vega-lib\": \"https://cdn.jsdelivr.net/npm/vega-lib?noext\",\n",
       "      \"vega-lite\": \"https://cdn.jsdelivr.net/npm/vega-lite@5.17.0?noext\",\n",
       "      \"vega-embed\": \"https://cdn.jsdelivr.net/npm/vega-embed@6?noext\",\n",
       "    };\n",
       "\n",
       "    function maybeLoadScript(lib, version) {\n",
       "      var key = `${lib.replace(\"-\", \"\")}_version`;\n",
       "      return (VEGA_DEBUG[key] == version) ?\n",
       "        Promise.resolve(paths[lib]) :\n",
       "        new Promise(function(resolve, reject) {\n",
       "          var s = document.createElement('script');\n",
       "          document.getElementsByTagName(\"head\")[0].appendChild(s);\n",
       "          s.async = true;\n",
       "          s.onload = () => {\n",
       "            VEGA_DEBUG[key] = version;\n",
       "            return resolve(paths[lib]);\n",
       "          };\n",
       "          s.onerror = () => reject(`Error loading script: ${paths[lib]}`);\n",
       "          s.src = paths[lib];\n",
       "        });\n",
       "    }\n",
       "\n",
       "    function showError(err) {\n",
       "      outputDiv.innerHTML = `<div class=\"error\" style=\"color:red;\">${err}</div>`;\n",
       "      throw err;\n",
       "    }\n",
       "\n",
       "    function displayChart(vegaEmbed) {\n",
       "      vegaEmbed(outputDiv, spec, embedOpt)\n",
       "        .catch(err => showError(`Javascript Error: ${err.message}<br>This usually means there's a typo in your chart specification. See the javascript console for the full traceback.`));\n",
       "    }\n",
       "\n",
       "    if(typeof define === \"function\" && define.amd) {\n",
       "      requirejs.config({paths});\n",
       "      require([\"vega-embed\"], displayChart, err => showError(`Error loading script: ${err.message}`));\n",
       "    } else {\n",
       "      maybeLoadScript(\"vega\", \"5\")\n",
       "        .then(() => maybeLoadScript(\"vega-lite\", \"5.17.0\"))\n",
       "        .then(() => maybeLoadScript(\"vega-embed\", \"6\"))\n",
       "        .catch(showError)\n",
       "        .then(() => displayChart(vegaEmbed));\n",
       "    }\n",
       "  })({\"config\": {\"view\": {\"continuousWidth\": 300, \"continuousHeight\": 300}}, \"data\": {\"name\": \"data-e70add7862353e7407c1dd84e0e683b7\"}, \"facet\": {\"column\": {\"field\": \"Sex\", \"sort\": \"ascending\", \"type\": \"nominal\"}, \"row\": {\"field\": \"Pclass\", \"sort\": \"ascending\", \"type\": \"nominal\"}}, \"spec\": {\"mark\": {\"type\": \"bar\"}, \"encoding\": {\"color\": {\"field\": \"Embarked\", \"sort\": [\"C\", \"Q\", \"S\", \"NA\"], \"type\": \"nominal\"}, \"x\": {\"field\": \"Survived\", \"type\": \"nominal\"}, \"y\": {\"aggregate\": \"count\", \"field\": \"Survived\", \"type\": \"quantitative\"}}, \"height\": 150, \"width\": 150}, \"$schema\": \"https://vega.github.io/schema/vega-lite/v5.17.0.json\", \"datasets\": {\"data-e70add7862353e7407c1dd84e0e683b7\": [{\"PassengerId\": 1, \"Survived\": false, \"Pclass\": 3, \"Name\": \"Braund, Mr. Owen Harris\", \"Sex\": \"male\", \"Age\": 22.0, \"SibSp\": 1, \"Parch\": 0, \"Ticket\": \"A/5 21171\", \"Fare\": 7.25, \"Cabin\": \"NA\", \"Embarked\": \"S\"}, {\"PassengerId\": 2, \"Survived\": true, \"Pclass\": 1, \"Name\": \"Cumings, Mrs. John Bradley (Florence Briggs Thayer)\", \"Sex\": \"female\", \"Age\": 38.0, \"SibSp\": 1, \"Parch\": 0, \"Ticket\": \"PC 17599\", \"Fare\": 71.2833, \"Cabin\": \"C85\", \"Embarked\": \"C\"}, {\"PassengerId\": 3, \"Survived\": true, \"Pclass\": 3, \"Name\": \"Heikkinen, Miss. Laina\", \"Sex\": \"female\", \"Age\": 26.0, \"SibSp\": 0, \"Parch\": 0, \"Ticket\": \"STON/O2. 3101282\", \"Fare\": 7.925, \"Cabin\": \"NA\", \"Embarked\": \"S\"}, {\"PassengerId\": 4, \"Survived\": true, \"Pclass\": 1, \"Name\": \"Futrelle, Mrs. Jacques Heath (Lily May Peel)\", \"Sex\": \"female\", \"Age\": 35.0, \"SibSp\": 1, \"Parch\": 0, \"Ticket\": \"113803\", \"Fare\": 53.1, \"Cabin\": \"C123\", \"Embarked\": \"S\"}, {\"PassengerId\": 5, \"Survived\": false, \"Pclass\": 3, \"Name\": \"Allen, Mr. William Henry\", \"Sex\": \"male\", \"Age\": 35.0, \"SibSp\": 0, \"Parch\": 0, \"Ticket\": \"373450\", \"Fare\": 8.05, \"Cabin\": \"NA\", \"Embarked\": \"S\"}, {\"PassengerId\": 6, \"Survived\": false, \"Pclass\": 3, \"Name\": \"Moran, Mr. James\", \"Sex\": \"male\", \"Age\": null, \"SibSp\": 0, \"Parch\": 0, \"Ticket\": \"330877\", \"Fare\": 8.4583, \"Cabin\": \"NA\", \"Embarked\": \"Q\"}, {\"PassengerId\": 7, \"Survived\": false, \"Pclass\": 1, \"Name\": \"McCarthy, Mr. Timothy J\", \"Sex\": \"male\", \"Age\": 54.0, \"SibSp\": 0, \"Parch\": 0, \"Ticket\": \"17463\", \"Fare\": 51.8625, \"Cabin\": \"E46\", \"Embarked\": \"S\"}, {\"PassengerId\": 8, \"Survived\": false, \"Pclass\": 3, \"Name\": \"Palsson, Master. Gosta Leonard\", \"Sex\": \"male\", \"Age\": 2.0, \"SibSp\": 3, \"Parch\": 1, \"Ticket\": \"349909\", \"Fare\": 21.075, \"Cabin\": \"NA\", \"Embarked\": \"S\"}, {\"PassengerId\": 9, \"Survived\": true, \"Pclass\": 3, \"Name\": \"Johnson, Mrs. Oscar W (Elisabeth Vilhelmina Berg)\", \"Sex\": \"female\", \"Age\": 27.0, \"SibSp\": 0, \"Parch\": 2, \"Ticket\": \"347742\", \"Fare\": 11.1333, \"Cabin\": \"NA\", \"Embarked\": \"S\"}, {\"PassengerId\": 10, \"Survived\": true, \"Pclass\": 2, \"Name\": \"Nasser, Mrs. Nicholas (Adele Achem)\", \"Sex\": \"female\", \"Age\": 14.0, \"SibSp\": 1, \"Parch\": 0, \"Ticket\": \"237736\", \"Fare\": 30.0708, \"Cabin\": \"NA\", \"Embarked\": \"C\"}, {\"PassengerId\": 11, \"Survived\": true, \"Pclass\": 3, \"Name\": \"Sandstrom, Miss. Marguerite Rut\", \"Sex\": \"female\", \"Age\": 4.0, \"SibSp\": 1, \"Parch\": 1, \"Ticket\": \"PP 9549\", \"Fare\": 16.7, \"Cabin\": \"G6\", \"Embarked\": \"S\"}, {\"PassengerId\": 12, \"Survived\": true, \"Pclass\": 1, \"Name\": \"Bonnell, Miss. Elizabeth\", \"Sex\": \"female\", \"Age\": 58.0, \"SibSp\": 0, \"Parch\": 0, \"Ticket\": \"113783\", \"Fare\": 26.55, \"Cabin\": \"C103\", \"Embarked\": \"S\"}, {\"PassengerId\": 13, \"Survived\": false, \"Pclass\": 3, \"Name\": \"Saundercock, Mr. William Henry\", \"Sex\": \"male\", \"Age\": 20.0, \"SibSp\": 0, \"Parch\": 0, \"Ticket\": \"A/5. 2151\", \"Fare\": 8.05, \"Cabin\": \"NA\", \"Embarked\": \"S\"}, {\"PassengerId\": 14, \"Survived\": false, \"Pclass\": 3, \"Name\": \"Andersson, Mr. Anders Johan\", \"Sex\": \"male\", \"Age\": 39.0, \"SibSp\": 1, \"Parch\": 5, \"Ticket\": \"347082\", \"Fare\": 31.275, \"Cabin\": \"NA\", \"Embarked\": \"S\"}, {\"PassengerId\": 15, \"Survived\": false, \"Pclass\": 3, \"Name\": \"Vestrom, Miss. Hulda Amanda Adolfina\", \"Sex\": \"female\", \"Age\": 14.0, \"SibSp\": 0, \"Parch\": 0, \"Ticket\": \"350406\", \"Fare\": 7.8542, \"Cabin\": \"NA\", \"Embarked\": \"S\"}, {\"PassengerId\": 16, \"Survived\": true, \"Pclass\": 2, \"Name\": \"Hewlett, Mrs. (Mary D Kingcome) \", \"Sex\": \"female\", \"Age\": 55.0, \"SibSp\": 0, \"Parch\": 0, \"Ticket\": \"248706\", \"Fare\": 16.0, \"Cabin\": \"NA\", \"Embarked\": \"S\"}, {\"PassengerId\": 17, \"Survived\": false, \"Pclass\": 3, \"Name\": \"Rice, Master. Eugene\", \"Sex\": \"male\", \"Age\": 2.0, \"SibSp\": 4, \"Parch\": 1, \"Ticket\": \"382652\", \"Fare\": 29.125, \"Cabin\": \"NA\", \"Embarked\": \"Q\"}, {\"PassengerId\": 18, \"Survived\": true, \"Pclass\": 2, \"Name\": \"Williams, Mr. Charles Eugene\", \"Sex\": \"male\", \"Age\": null, \"SibSp\": 0, \"Parch\": 0, \"Ticket\": \"244373\", \"Fare\": 13.0, \"Cabin\": \"NA\", \"Embarked\": \"S\"}, {\"PassengerId\": 19, \"Survived\": false, \"Pclass\": 3, \"Name\": \"Vander Planke, Mrs. Julius (Emelia Maria Vandemoortele)\", \"Sex\": \"female\", \"Age\": 31.0, \"SibSp\": 1, \"Parch\": 0, \"Ticket\": \"345763\", \"Fare\": 18.0, \"Cabin\": \"NA\", \"Embarked\": \"S\"}, {\"PassengerId\": 20, \"Survived\": true, \"Pclass\": 3, \"Name\": \"Masselmani, Mrs. Fatima\", \"Sex\": \"female\", \"Age\": null, \"SibSp\": 0, \"Parch\": 0, \"Ticket\": \"2649\", \"Fare\": 7.225, \"Cabin\": \"NA\", \"Embarked\": \"C\"}, {\"PassengerId\": 21, \"Survived\": false, \"Pclass\": 2, \"Name\": \"Fynney, Mr. Joseph J\", \"Sex\": \"male\", \"Age\": 35.0, \"SibSp\": 0, \"Parch\": 0, \"Ticket\": \"239865\", \"Fare\": 26.0, \"Cabin\": \"NA\", \"Embarked\": \"S\"}, {\"PassengerId\": 22, \"Survived\": true, \"Pclass\": 2, \"Name\": \"Beesley, Mr. Lawrence\", \"Sex\": \"male\", \"Age\": 34.0, \"SibSp\": 0, \"Parch\": 0, \"Ticket\": \"248698\", \"Fare\": 13.0, \"Cabin\": \"D56\", \"Embarked\": \"S\"}, {\"PassengerId\": 23, \"Survived\": true, \"Pclass\": 3, \"Name\": \"McGowan, Miss. Anna \\\"Annie\\\"\", \"Sex\": \"female\", \"Age\": 15.0, \"SibSp\": 0, \"Parch\": 0, \"Ticket\": \"330923\", \"Fare\": 8.0292, \"Cabin\": \"NA\", \"Embarked\": \"Q\"}, {\"PassengerId\": 24, \"Survived\": true, \"Pclass\": 1, \"Name\": \"Sloper, Mr. William Thompson\", \"Sex\": \"male\", \"Age\": 28.0, \"SibSp\": 0, \"Parch\": 0, \"Ticket\": \"113788\", \"Fare\": 35.5, \"Cabin\": \"A6\", \"Embarked\": \"S\"}, {\"PassengerId\": 25, \"Survived\": false, \"Pclass\": 3, \"Name\": \"Palsson, Miss. Torborg Danira\", \"Sex\": \"female\", \"Age\": 8.0, \"SibSp\": 3, \"Parch\": 1, \"Ticket\": \"349909\", \"Fare\": 21.075, \"Cabin\": \"NA\", \"Embarked\": \"S\"}, {\"PassengerId\": 26, \"Survived\": true, \"Pclass\": 3, \"Name\": \"Asplund, Mrs. Carl Oscar (Selma Augusta Emilia Johansson)\", \"Sex\": \"female\", \"Age\": 38.0, \"SibSp\": 1, \"Parch\": 5, \"Ticket\": \"347077\", \"Fare\": 31.3875, \"Cabin\": \"NA\", \"Embarked\": \"S\"}, {\"PassengerId\": 27, \"Survived\": false, \"Pclass\": 3, \"Name\": \"Emir, Mr. Farred Chehab\", \"Sex\": \"male\", \"Age\": null, \"SibSp\": 0, \"Parch\": 0, \"Ticket\": \"2631\", \"Fare\": 7.225, \"Cabin\": \"NA\", \"Embarked\": \"C\"}, {\"PassengerId\": 28, \"Survived\": false, \"Pclass\": 1, \"Name\": \"Fortune, Mr. Charles Alexander\", \"Sex\": \"male\", \"Age\": 19.0, \"SibSp\": 3, \"Parch\": 2, \"Ticket\": \"19950\", \"Fare\": 263.0, \"Cabin\": \"C23 C25 C27\", \"Embarked\": \"S\"}, {\"PassengerId\": 29, \"Survived\": true, \"Pclass\": 3, \"Name\": \"O'Dwyer, Miss. Ellen \\\"Nellie\\\"\", \"Sex\": \"female\", \"Age\": null, \"SibSp\": 0, \"Parch\": 0, \"Ticket\": \"330959\", \"Fare\": 7.8792, \"Cabin\": \"NA\", \"Embarked\": \"Q\"}, {\"PassengerId\": 30, \"Survived\": false, \"Pclass\": 3, \"Name\": \"Todoroff, Mr. Lalio\", \"Sex\": \"male\", \"Age\": null, \"SibSp\": 0, \"Parch\": 0, \"Ticket\": \"349216\", \"Fare\": 7.8958, \"Cabin\": \"NA\", \"Embarked\": \"S\"}, {\"PassengerId\": 31, \"Survived\": false, \"Pclass\": 1, \"Name\": \"Uruchurtu, Don. Manuel E\", \"Sex\": \"male\", \"Age\": 40.0, \"SibSp\": 0, \"Parch\": 0, \"Ticket\": \"PC 17601\", \"Fare\": 27.7208, \"Cabin\": \"NA\", \"Embarked\": \"C\"}, {\"PassengerId\": 32, \"Survived\": true, \"Pclass\": 1, \"Name\": \"Spencer, Mrs. William Augustus (Marie Eugenie)\", \"Sex\": \"female\", \"Age\": null, \"SibSp\": 1, \"Parch\": 0, \"Ticket\": \"PC 17569\", \"Fare\": 146.5208, \"Cabin\": \"B78\", \"Embarked\": \"C\"}, {\"PassengerId\": 33, \"Survived\": true, \"Pclass\": 3, \"Name\": \"Glynn, Miss. Mary Agatha\", \"Sex\": \"female\", \"Age\": null, \"SibSp\": 0, \"Parch\": 0, \"Ticket\": \"335677\", \"Fare\": 7.75, \"Cabin\": \"NA\", \"Embarked\": \"Q\"}, {\"PassengerId\": 34, \"Survived\": false, \"Pclass\": 2, \"Name\": \"Wheadon, Mr. Edward H\", \"Sex\": \"male\", \"Age\": 66.0, \"SibSp\": 0, \"Parch\": 0, \"Ticket\": \"C.A. 24579\", \"Fare\": 10.5, \"Cabin\": \"NA\", \"Embarked\": \"S\"}, {\"PassengerId\": 35, \"Survived\": false, \"Pclass\": 1, \"Name\": \"Meyer, Mr. Edgar Joseph\", \"Sex\": \"male\", \"Age\": 28.0, \"SibSp\": 1, \"Parch\": 0, \"Ticket\": \"PC 17604\", \"Fare\": 82.1708, \"Cabin\": \"NA\", \"Embarked\": \"C\"}, {\"PassengerId\": 36, \"Survived\": false, \"Pclass\": 1, \"Name\": \"Holverson, Mr. Alexander Oskar\", \"Sex\": \"male\", \"Age\": 42.0, \"SibSp\": 1, \"Parch\": 0, \"Ticket\": \"113789\", \"Fare\": 52.0, \"Cabin\": \"NA\", \"Embarked\": \"S\"}, {\"PassengerId\": 37, \"Survived\": true, \"Pclass\": 3, \"Name\": \"Mamee, Mr. Hanna\", \"Sex\": \"male\", \"Age\": null, \"SibSp\": 0, \"Parch\": 0, \"Ticket\": \"2677\", \"Fare\": 7.2292, \"Cabin\": \"NA\", \"Embarked\": \"C\"}, {\"PassengerId\": 38, \"Survived\": false, \"Pclass\": 3, \"Name\": \"Cann, Mr. Ernest Charles\", \"Sex\": \"male\", \"Age\": 21.0, \"SibSp\": 0, \"Parch\": 0, \"Ticket\": \"A./5. 2152\", \"Fare\": 8.05, \"Cabin\": \"NA\", \"Embarked\": \"S\"}, {\"PassengerId\": 39, \"Survived\": false, \"Pclass\": 3, \"Name\": \"Vander Planke, Miss. Augusta Maria\", \"Sex\": \"female\", \"Age\": 18.0, \"SibSp\": 2, \"Parch\": 0, \"Ticket\": \"345764\", \"Fare\": 18.0, \"Cabin\": \"NA\", \"Embarked\": \"S\"}, {\"PassengerId\": 40, \"Survived\": true, \"Pclass\": 3, \"Name\": \"Nicola-Yarred, Miss. Jamila\", \"Sex\": \"female\", \"Age\": 14.0, \"SibSp\": 1, \"Parch\": 0, \"Ticket\": \"2651\", \"Fare\": 11.2417, \"Cabin\": \"NA\", \"Embarked\": \"C\"}, {\"PassengerId\": 41, \"Survived\": false, \"Pclass\": 3, \"Name\": \"Ahlin, Mrs. Johan (Johanna Persdotter Larsson)\", \"Sex\": \"female\", \"Age\": 40.0, \"SibSp\": 1, \"Parch\": 0, \"Ticket\": \"7546\", \"Fare\": 9.475, \"Cabin\": \"NA\", \"Embarked\": \"S\"}, {\"PassengerId\": 42, \"Survived\": false, \"Pclass\": 2, \"Name\": \"Turpin, Mrs. William John Robert (Dorothy Ann Wonnacott)\", \"Sex\": \"female\", \"Age\": 27.0, \"SibSp\": 1, \"Parch\": 0, \"Ticket\": \"11668\", \"Fare\": 21.0, \"Cabin\": \"NA\", \"Embarked\": \"S\"}, {\"PassengerId\": 43, \"Survived\": false, \"Pclass\": 3, \"Name\": \"Kraeff, Mr. Theodor\", \"Sex\": \"male\", \"Age\": null, \"SibSp\": 0, \"Parch\": 0, \"Ticket\": \"349253\", \"Fare\": 7.8958, \"Cabin\": \"NA\", \"Embarked\": \"C\"}, {\"PassengerId\": 44, \"Survived\": true, \"Pclass\": 2, \"Name\": \"Laroche, Miss. Simonne Marie Anne Andree\", \"Sex\": \"female\", \"Age\": 3.0, \"SibSp\": 1, \"Parch\": 2, \"Ticket\": \"SC/Paris 2123\", \"Fare\": 41.5792, \"Cabin\": \"NA\", \"Embarked\": \"C\"}, {\"PassengerId\": 45, \"Survived\": true, \"Pclass\": 3, \"Name\": \"Devaney, Miss. Margaret Delia\", \"Sex\": \"female\", \"Age\": 19.0, \"SibSp\": 0, \"Parch\": 0, \"Ticket\": \"330958\", \"Fare\": 7.8792, \"Cabin\": \"NA\", \"Embarked\": \"Q\"}, {\"PassengerId\": 46, \"Survived\": false, \"Pclass\": 3, \"Name\": \"Rogers, Mr. William John\", \"Sex\": \"male\", \"Age\": null, \"SibSp\": 0, \"Parch\": 0, \"Ticket\": \"S.C./A.4. 23567\", \"Fare\": 8.05, \"Cabin\": \"NA\", \"Embarked\": \"S\"}, {\"PassengerId\": 47, \"Survived\": false, \"Pclass\": 3, \"Name\": \"Lennon, Mr. Denis\", \"Sex\": \"male\", \"Age\": null, \"SibSp\": 1, \"Parch\": 0, \"Ticket\": \"370371\", \"Fare\": 15.5, \"Cabin\": \"NA\", \"Embarked\": \"Q\"}, {\"PassengerId\": 48, \"Survived\": true, \"Pclass\": 3, \"Name\": \"O'Driscoll, Miss. Bridget\", \"Sex\": \"female\", \"Age\": null, \"SibSp\": 0, \"Parch\": 0, \"Ticket\": \"14311\", \"Fare\": 7.75, \"Cabin\": \"NA\", \"Embarked\": \"Q\"}, {\"PassengerId\": 49, \"Survived\": false, \"Pclass\": 3, \"Name\": \"Samaan, Mr. Youssef\", \"Sex\": \"male\", \"Age\": null, \"SibSp\": 2, \"Parch\": 0, \"Ticket\": \"2662\", \"Fare\": 21.6792, \"Cabin\": \"NA\", \"Embarked\": \"C\"}, {\"PassengerId\": 50, \"Survived\": false, \"Pclass\": 3, \"Name\": \"Arnold-Franchi, Mrs. Josef (Josefine Franchi)\", \"Sex\": \"female\", \"Age\": 18.0, \"SibSp\": 1, \"Parch\": 0, \"Ticket\": \"349237\", \"Fare\": 17.8, \"Cabin\": \"NA\", \"Embarked\": \"S\"}, {\"PassengerId\": 51, \"Survived\": false, \"Pclass\": 3, \"Name\": \"Panula, Master. Juha Niilo\", \"Sex\": \"male\", \"Age\": 7.0, \"SibSp\": 4, \"Parch\": 1, \"Ticket\": \"3101295\", \"Fare\": 39.6875, \"Cabin\": \"NA\", \"Embarked\": \"S\"}, {\"PassengerId\": 52, \"Survived\": false, \"Pclass\": 3, \"Name\": \"Nosworthy, Mr. Richard Cater\", \"Sex\": \"male\", \"Age\": 21.0, \"SibSp\": 0, \"Parch\": 0, \"Ticket\": \"A/4. 39886\", \"Fare\": 7.8, \"Cabin\": \"NA\", \"Embarked\": \"S\"}, {\"PassengerId\": 53, \"Survived\": true, \"Pclass\": 1, \"Name\": \"Harper, Mrs. Henry Sleeper (Myna Haxtun)\", \"Sex\": \"female\", \"Age\": 49.0, \"SibSp\": 1, \"Parch\": 0, \"Ticket\": \"PC 17572\", \"Fare\": 76.7292, \"Cabin\": \"D33\", \"Embarked\": \"C\"}, {\"PassengerId\": 54, \"Survived\": true, \"Pclass\": 2, \"Name\": \"Faunthorpe, Mrs. Lizzie (Elizabeth Anne Wilkinson)\", \"Sex\": \"female\", \"Age\": 29.0, \"SibSp\": 1, \"Parch\": 0, \"Ticket\": \"2926\", \"Fare\": 26.0, \"Cabin\": \"NA\", \"Embarked\": \"S\"}, {\"PassengerId\": 55, \"Survived\": false, \"Pclass\": 1, \"Name\": \"Ostby, Mr. Engelhart Cornelius\", \"Sex\": \"male\", \"Age\": 65.0, \"SibSp\": 0, \"Parch\": 1, \"Ticket\": \"113509\", \"Fare\": 61.9792, \"Cabin\": \"B30\", \"Embarked\": \"C\"}, {\"PassengerId\": 56, \"Survived\": true, \"Pclass\": 1, \"Name\": \"Woolner, Mr. Hugh\", \"Sex\": \"male\", \"Age\": null, \"SibSp\": 0, \"Parch\": 0, \"Ticket\": \"19947\", \"Fare\": 35.5, \"Cabin\": \"C52\", \"Embarked\": \"S\"}, {\"PassengerId\": 57, \"Survived\": true, \"Pclass\": 2, \"Name\": \"Rugg, Miss. Emily\", \"Sex\": \"female\", \"Age\": 21.0, \"SibSp\": 0, \"Parch\": 0, \"Ticket\": \"C.A. 31026\", \"Fare\": 10.5, \"Cabin\": \"NA\", \"Embarked\": \"S\"}, {\"PassengerId\": 58, \"Survived\": false, \"Pclass\": 3, \"Name\": \"Novel, Mr. Mansouer\", \"Sex\": \"male\", \"Age\": 28.5, \"SibSp\": 0, \"Parch\": 0, \"Ticket\": \"2697\", \"Fare\": 7.2292, \"Cabin\": \"NA\", \"Embarked\": \"C\"}, {\"PassengerId\": 59, \"Survived\": true, \"Pclass\": 2, \"Name\": \"West, Miss. Constance Mirium\", \"Sex\": \"female\", \"Age\": 5.0, \"SibSp\": 1, \"Parch\": 2, \"Ticket\": \"C.A. 34651\", \"Fare\": 27.75, \"Cabin\": \"NA\", \"Embarked\": \"S\"}, {\"PassengerId\": 60, \"Survived\": false, \"Pclass\": 3, \"Name\": \"Goodwin, Master. William Frederick\", \"Sex\": \"male\", \"Age\": 11.0, \"SibSp\": 5, \"Parch\": 2, \"Ticket\": \"CA 2144\", \"Fare\": 46.9, \"Cabin\": \"NA\", \"Embarked\": \"S\"}, {\"PassengerId\": 61, \"Survived\": false, \"Pclass\": 3, \"Name\": \"Sirayanian, Mr. Orsen\", \"Sex\": \"male\", \"Age\": 22.0, \"SibSp\": 0, \"Parch\": 0, \"Ticket\": \"2669\", \"Fare\": 7.2292, \"Cabin\": \"NA\", \"Embarked\": \"C\"}, {\"PassengerId\": 62, \"Survived\": true, \"Pclass\": 1, \"Name\": \"Icard, Miss. Amelie\", \"Sex\": \"female\", \"Age\": 38.0, \"SibSp\": 0, \"Parch\": 0, \"Ticket\": \"113572\", \"Fare\": 80.0, \"Cabin\": \"B28\", \"Embarked\": \"NA\"}, {\"PassengerId\": 63, \"Survived\": false, \"Pclass\": 1, \"Name\": \"Harris, Mr. Henry Birkhardt\", \"Sex\": \"male\", \"Age\": 45.0, \"SibSp\": 1, \"Parch\": 0, \"Ticket\": \"36973\", \"Fare\": 83.475, \"Cabin\": \"C83\", \"Embarked\": \"S\"}, {\"PassengerId\": 64, \"Survived\": false, \"Pclass\": 3, \"Name\": \"Skoog, Master. Harald\", \"Sex\": \"male\", \"Age\": 4.0, \"SibSp\": 3, \"Parch\": 2, \"Ticket\": \"347088\", \"Fare\": 27.9, \"Cabin\": \"NA\", \"Embarked\": \"S\"}, {\"PassengerId\": 65, \"Survived\": false, \"Pclass\": 1, \"Name\": \"Stewart, Mr. Albert A\", \"Sex\": \"male\", \"Age\": null, \"SibSp\": 0, \"Parch\": 0, \"Ticket\": \"PC 17605\", \"Fare\": 27.7208, \"Cabin\": \"NA\", \"Embarked\": \"C\"}, {\"PassengerId\": 66, \"Survived\": true, \"Pclass\": 3, \"Name\": \"Moubarek, Master. Gerios\", \"Sex\": \"male\", \"Age\": null, \"SibSp\": 1, \"Parch\": 1, \"Ticket\": \"2661\", \"Fare\": 15.2458, \"Cabin\": \"NA\", \"Embarked\": \"C\"}, {\"PassengerId\": 67, \"Survived\": true, \"Pclass\": 2, \"Name\": \"Nye, Mrs. (Elizabeth Ramell)\", \"Sex\": \"female\", \"Age\": 29.0, \"SibSp\": 0, \"Parch\": 0, \"Ticket\": \"C.A. 29395\", \"Fare\": 10.5, \"Cabin\": \"F33\", \"Embarked\": \"S\"}, {\"PassengerId\": 68, \"Survived\": false, \"Pclass\": 3, \"Name\": \"Crease, Mr. Ernest James\", \"Sex\": \"male\", \"Age\": 19.0, \"SibSp\": 0, \"Parch\": 0, \"Ticket\": \"S.P. 3464\", \"Fare\": 8.1583, \"Cabin\": \"NA\", \"Embarked\": \"S\"}, {\"PassengerId\": 69, \"Survived\": true, \"Pclass\": 3, \"Name\": \"Andersson, Miss. Erna Alexandra\", \"Sex\": \"female\", \"Age\": 17.0, \"SibSp\": 4, \"Parch\": 2, \"Ticket\": \"3101281\", \"Fare\": 7.925, \"Cabin\": \"NA\", \"Embarked\": \"S\"}, {\"PassengerId\": 70, \"Survived\": false, \"Pclass\": 3, \"Name\": \"Kink, Mr. Vincenz\", \"Sex\": \"male\", \"Age\": 26.0, \"SibSp\": 2, \"Parch\": 0, \"Ticket\": \"315151\", \"Fare\": 8.6625, \"Cabin\": \"NA\", \"Embarked\": \"S\"}, {\"PassengerId\": 71, \"Survived\": false, \"Pclass\": 2, \"Name\": \"Jenkin, Mr. Stephen Curnow\", \"Sex\": \"male\", \"Age\": 32.0, \"SibSp\": 0, \"Parch\": 0, \"Ticket\": \"C.A. 33111\", \"Fare\": 10.5, \"Cabin\": \"NA\", \"Embarked\": \"S\"}, {\"PassengerId\": 72, \"Survived\": false, \"Pclass\": 3, \"Name\": \"Goodwin, Miss. Lillian Amy\", \"Sex\": \"female\", \"Age\": 16.0, \"SibSp\": 5, \"Parch\": 2, \"Ticket\": \"CA 2144\", \"Fare\": 46.9, \"Cabin\": \"NA\", \"Embarked\": \"S\"}, {\"PassengerId\": 73, \"Survived\": false, \"Pclass\": 2, \"Name\": \"Hood, Mr. Ambrose Jr\", \"Sex\": \"male\", \"Age\": 21.0, \"SibSp\": 0, \"Parch\": 0, \"Ticket\": \"S.O.C. 14879\", \"Fare\": 73.5, \"Cabin\": \"NA\", \"Embarked\": \"S\"}, {\"PassengerId\": 74, \"Survived\": false, \"Pclass\": 3, \"Name\": \"Chronopoulos, Mr. Apostolos\", \"Sex\": \"male\", \"Age\": 26.0, \"SibSp\": 1, \"Parch\": 0, \"Ticket\": \"2680\", \"Fare\": 14.4542, \"Cabin\": \"NA\", \"Embarked\": \"C\"}, {\"PassengerId\": 75, \"Survived\": true, \"Pclass\": 3, \"Name\": \"Bing, Mr. Lee\", \"Sex\": \"male\", \"Age\": 32.0, \"SibSp\": 0, \"Parch\": 0, \"Ticket\": \"1601\", \"Fare\": 56.4958, \"Cabin\": \"NA\", \"Embarked\": \"S\"}, {\"PassengerId\": 76, \"Survived\": false, \"Pclass\": 3, \"Name\": \"Moen, Mr. Sigurd Hansen\", \"Sex\": \"male\", \"Age\": 25.0, \"SibSp\": 0, \"Parch\": 0, \"Ticket\": \"348123\", \"Fare\": 7.65, \"Cabin\": \"F G73\", \"Embarked\": \"S\"}, {\"PassengerId\": 77, \"Survived\": false, \"Pclass\": 3, \"Name\": \"Staneff, Mr. Ivan\", \"Sex\": \"male\", \"Age\": null, \"SibSp\": 0, \"Parch\": 0, \"Ticket\": \"349208\", \"Fare\": 7.8958, \"Cabin\": \"NA\", \"Embarked\": \"S\"}, {\"PassengerId\": 78, \"Survived\": false, \"Pclass\": 3, \"Name\": \"Moutal, Mr. Rahamin Haim\", \"Sex\": \"male\", \"Age\": null, \"SibSp\": 0, \"Parch\": 0, \"Ticket\": \"374746\", \"Fare\": 8.05, \"Cabin\": \"NA\", \"Embarked\": \"S\"}, {\"PassengerId\": 79, \"Survived\": true, \"Pclass\": 2, \"Name\": \"Caldwell, Master. Alden Gates\", \"Sex\": \"male\", \"Age\": 0.83, \"SibSp\": 0, \"Parch\": 2, \"Ticket\": \"248738\", \"Fare\": 29.0, \"Cabin\": \"NA\", \"Embarked\": \"S\"}, {\"PassengerId\": 80, \"Survived\": true, \"Pclass\": 3, \"Name\": \"Dowdell, Miss. Elizabeth\", \"Sex\": \"female\", \"Age\": 30.0, \"SibSp\": 0, \"Parch\": 0, \"Ticket\": \"364516\", \"Fare\": 12.475, \"Cabin\": \"NA\", \"Embarked\": \"S\"}, {\"PassengerId\": 81, \"Survived\": false, \"Pclass\": 3, \"Name\": \"Waelens, Mr. Achille\", \"Sex\": \"male\", \"Age\": 22.0, \"SibSp\": 0, \"Parch\": 0, \"Ticket\": \"345767\", \"Fare\": 9.0, \"Cabin\": \"NA\", \"Embarked\": \"S\"}, {\"PassengerId\": 82, \"Survived\": true, \"Pclass\": 3, \"Name\": \"Sheerlinck, Mr. Jan Baptist\", \"Sex\": \"male\", \"Age\": 29.0, \"SibSp\": 0, \"Parch\": 0, \"Ticket\": \"345779\", \"Fare\": 9.5, \"Cabin\": \"NA\", \"Embarked\": \"S\"}, {\"PassengerId\": 83, \"Survived\": true, \"Pclass\": 3, \"Name\": \"McDermott, Miss. Brigdet Delia\", \"Sex\": \"female\", \"Age\": null, \"SibSp\": 0, \"Parch\": 0, \"Ticket\": \"330932\", \"Fare\": 7.7875, \"Cabin\": \"NA\", \"Embarked\": \"Q\"}, {\"PassengerId\": 84, \"Survived\": false, \"Pclass\": 1, \"Name\": \"Carrau, Mr. Francisco M\", \"Sex\": \"male\", \"Age\": 28.0, \"SibSp\": 0, \"Parch\": 0, \"Ticket\": \"113059\", \"Fare\": 47.1, \"Cabin\": \"NA\", \"Embarked\": \"S\"}, {\"PassengerId\": 85, \"Survived\": true, \"Pclass\": 2, \"Name\": \"Ilett, Miss. Bertha\", \"Sex\": \"female\", \"Age\": 17.0, \"SibSp\": 0, \"Parch\": 0, \"Ticket\": \"SO/C 14885\", \"Fare\": 10.5, \"Cabin\": \"NA\", \"Embarked\": \"S\"}, {\"PassengerId\": 86, \"Survived\": true, \"Pclass\": 3, \"Name\": \"Backstrom, Mrs. Karl Alfred (Maria Mathilda Gustafsson)\", \"Sex\": \"female\", \"Age\": 33.0, \"SibSp\": 3, \"Parch\": 0, \"Ticket\": \"3101278\", \"Fare\": 15.85, \"Cabin\": \"NA\", \"Embarked\": \"S\"}, {\"PassengerId\": 87, \"Survived\": false, \"Pclass\": 3, \"Name\": \"Ford, Mr. William Neal\", \"Sex\": \"male\", \"Age\": 16.0, \"SibSp\": 1, \"Parch\": 3, \"Ticket\": \"W./C. 6608\", \"Fare\": 34.375, \"Cabin\": \"NA\", \"Embarked\": \"S\"}, {\"PassengerId\": 88, \"Survived\": false, \"Pclass\": 3, \"Name\": \"Slocovski, Mr. Selman Francis\", \"Sex\": \"male\", \"Age\": null, \"SibSp\": 0, \"Parch\": 0, \"Ticket\": \"SOTON/OQ 392086\", \"Fare\": 8.05, \"Cabin\": \"NA\", \"Embarked\": \"S\"}, {\"PassengerId\": 89, \"Survived\": true, \"Pclass\": 1, \"Name\": \"Fortune, Miss. Mabel Helen\", \"Sex\": \"female\", \"Age\": 23.0, \"SibSp\": 3, \"Parch\": 2, \"Ticket\": \"19950\", \"Fare\": 263.0, \"Cabin\": \"C23 C25 C27\", \"Embarked\": \"S\"}, {\"PassengerId\": 90, \"Survived\": false, \"Pclass\": 3, \"Name\": \"Celotti, Mr. Francesco\", \"Sex\": \"male\", \"Age\": 24.0, \"SibSp\": 0, \"Parch\": 0, \"Ticket\": \"343275\", \"Fare\": 8.05, \"Cabin\": \"NA\", \"Embarked\": \"S\"}, {\"PassengerId\": 91, \"Survived\": false, \"Pclass\": 3, \"Name\": \"Christmann, Mr. Emil\", \"Sex\": \"male\", \"Age\": 29.0, \"SibSp\": 0, \"Parch\": 0, \"Ticket\": \"343276\", \"Fare\": 8.05, \"Cabin\": \"NA\", \"Embarked\": \"S\"}, {\"PassengerId\": 92, \"Survived\": false, \"Pclass\": 3, \"Name\": \"Andreasson, Mr. Paul Edvin\", \"Sex\": \"male\", \"Age\": 20.0, \"SibSp\": 0, \"Parch\": 0, \"Ticket\": \"347466\", \"Fare\": 7.8542, \"Cabin\": \"NA\", \"Embarked\": \"S\"}, {\"PassengerId\": 93, \"Survived\": false, \"Pclass\": 1, \"Name\": \"Chaffee, Mr. Herbert Fuller\", \"Sex\": \"male\", \"Age\": 46.0, \"SibSp\": 1, \"Parch\": 0, \"Ticket\": \"W.E.P. 5734\", \"Fare\": 61.175, \"Cabin\": \"E31\", \"Embarked\": \"S\"}, {\"PassengerId\": 94, \"Survived\": false, \"Pclass\": 3, \"Name\": \"Dean, Mr. Bertram Frank\", \"Sex\": \"male\", \"Age\": 26.0, \"SibSp\": 1, \"Parch\": 2, \"Ticket\": \"C.A. 2315\", \"Fare\": 20.575, \"Cabin\": \"NA\", \"Embarked\": \"S\"}, {\"PassengerId\": 95, \"Survived\": false, \"Pclass\": 3, \"Name\": \"Coxon, Mr. Daniel\", \"Sex\": \"male\", \"Age\": 59.0, \"SibSp\": 0, \"Parch\": 0, \"Ticket\": \"364500\", \"Fare\": 7.25, \"Cabin\": \"NA\", \"Embarked\": \"S\"}, {\"PassengerId\": 96, \"Survived\": false, \"Pclass\": 3, \"Name\": \"Shorney, Mr. Charles Joseph\", \"Sex\": \"male\", \"Age\": null, \"SibSp\": 0, \"Parch\": 0, \"Ticket\": \"374910\", \"Fare\": 8.05, \"Cabin\": \"NA\", \"Embarked\": \"S\"}, {\"PassengerId\": 97, \"Survived\": false, \"Pclass\": 1, \"Name\": \"Goldschmidt, Mr. George B\", \"Sex\": \"male\", \"Age\": 71.0, \"SibSp\": 0, \"Parch\": 0, \"Ticket\": \"PC 17754\", \"Fare\": 34.6542, \"Cabin\": \"A5\", \"Embarked\": \"C\"}, {\"PassengerId\": 98, \"Survived\": true, \"Pclass\": 1, \"Name\": \"Greenfield, Mr. William Bertram\", \"Sex\": \"male\", \"Age\": 23.0, \"SibSp\": 0, \"Parch\": 1, \"Ticket\": \"PC 17759\", \"Fare\": 63.3583, \"Cabin\": \"D10 D12\", \"Embarked\": \"C\"}, {\"PassengerId\": 99, \"Survived\": true, \"Pclass\": 2, \"Name\": \"Doling, Mrs. John T (Ada Julia Bone)\", \"Sex\": \"female\", \"Age\": 34.0, \"SibSp\": 0, \"Parch\": 1, \"Ticket\": \"231919\", \"Fare\": 23.0, \"Cabin\": \"NA\", \"Embarked\": \"S\"}, {\"PassengerId\": 100, \"Survived\": false, \"Pclass\": 2, \"Name\": \"Kantor, Mr. Sinai\", \"Sex\": \"male\", \"Age\": 34.0, \"SibSp\": 1, \"Parch\": 0, \"Ticket\": \"244367\", \"Fare\": 26.0, \"Cabin\": \"NA\", \"Embarked\": \"S\"}, {\"PassengerId\": 101, \"Survived\": false, \"Pclass\": 3, \"Name\": \"Petranec, Miss. Matilda\", \"Sex\": \"female\", \"Age\": 28.0, \"SibSp\": 0, \"Parch\": 0, \"Ticket\": \"349245\", \"Fare\": 7.8958, \"Cabin\": \"NA\", \"Embarked\": \"S\"}, {\"PassengerId\": 102, \"Survived\": false, \"Pclass\": 3, \"Name\": \"Petroff, Mr. Pastcho (\\\"Pentcho\\\")\", \"Sex\": \"male\", \"Age\": null, \"SibSp\": 0, \"Parch\": 0, \"Ticket\": \"349215\", \"Fare\": 7.8958, \"Cabin\": \"NA\", \"Embarked\": \"S\"}, {\"PassengerId\": 103, \"Survived\": false, \"Pclass\": 1, \"Name\": \"White, Mr. Richard Frasar\", \"Sex\": \"male\", \"Age\": 21.0, \"SibSp\": 0, \"Parch\": 1, \"Ticket\": \"35281\", \"Fare\": 77.2875, \"Cabin\": \"D26\", \"Embarked\": \"S\"}, {\"PassengerId\": 104, \"Survived\": false, \"Pclass\": 3, \"Name\": \"Johansson, Mr. Gustaf Joel\", \"Sex\": \"male\", \"Age\": 33.0, \"SibSp\": 0, \"Parch\": 0, \"Ticket\": \"7540\", \"Fare\": 8.6542, \"Cabin\": \"NA\", \"Embarked\": \"S\"}, {\"PassengerId\": 105, \"Survived\": false, \"Pclass\": 3, \"Name\": \"Gustafsson, Mr. Anders Vilhelm\", \"Sex\": \"male\", \"Age\": 37.0, \"SibSp\": 2, \"Parch\": 0, \"Ticket\": \"3101276\", \"Fare\": 7.925, \"Cabin\": \"NA\", \"Embarked\": \"S\"}, {\"PassengerId\": 106, \"Survived\": false, \"Pclass\": 3, \"Name\": \"Mionoff, Mr. Stoytcho\", \"Sex\": \"male\", \"Age\": 28.0, \"SibSp\": 0, \"Parch\": 0, \"Ticket\": \"349207\", \"Fare\": 7.8958, \"Cabin\": \"NA\", \"Embarked\": \"S\"}, {\"PassengerId\": 107, \"Survived\": true, \"Pclass\": 3, \"Name\": \"Salkjelsvik, Miss. Anna Kristine\", \"Sex\": \"female\", \"Age\": 21.0, \"SibSp\": 0, \"Parch\": 0, \"Ticket\": \"343120\", \"Fare\": 7.65, \"Cabin\": \"NA\", \"Embarked\": \"S\"}, {\"PassengerId\": 108, \"Survived\": true, \"Pclass\": 3, \"Name\": \"Moss, Mr. Albert Johan\", \"Sex\": \"male\", \"Age\": null, \"SibSp\": 0, \"Parch\": 0, \"Ticket\": \"312991\", \"Fare\": 7.775, \"Cabin\": \"NA\", \"Embarked\": \"S\"}, {\"PassengerId\": 109, \"Survived\": false, \"Pclass\": 3, \"Name\": \"Rekic, Mr. Tido\", \"Sex\": \"male\", \"Age\": 38.0, \"SibSp\": 0, \"Parch\": 0, \"Ticket\": \"349249\", \"Fare\": 7.8958, \"Cabin\": \"NA\", \"Embarked\": \"S\"}, {\"PassengerId\": 110, \"Survived\": true, \"Pclass\": 3, \"Name\": \"Moran, Miss. Bertha\", \"Sex\": \"female\", \"Age\": null, \"SibSp\": 1, \"Parch\": 0, \"Ticket\": \"371110\", \"Fare\": 24.15, \"Cabin\": \"NA\", \"Embarked\": \"Q\"}, {\"PassengerId\": 111, \"Survived\": false, \"Pclass\": 1, \"Name\": \"Porter, Mr. Walter Chamberlain\", \"Sex\": \"male\", \"Age\": 47.0, \"SibSp\": 0, \"Parch\": 0, \"Ticket\": \"110465\", \"Fare\": 52.0, \"Cabin\": \"C110\", \"Embarked\": \"S\"}, {\"PassengerId\": 112, \"Survived\": false, \"Pclass\": 3, \"Name\": \"Zabour, Miss. Hileni\", \"Sex\": \"female\", \"Age\": 14.5, \"SibSp\": 1, \"Parch\": 0, \"Ticket\": \"2665\", \"Fare\": 14.4542, \"Cabin\": \"NA\", \"Embarked\": \"C\"}, {\"PassengerId\": 113, \"Survived\": false, \"Pclass\": 3, \"Name\": \"Barton, Mr. David John\", \"Sex\": \"male\", \"Age\": 22.0, \"SibSp\": 0, \"Parch\": 0, \"Ticket\": \"324669\", \"Fare\": 8.05, \"Cabin\": \"NA\", \"Embarked\": \"S\"}, {\"PassengerId\": 114, \"Survived\": false, \"Pclass\": 3, \"Name\": \"Jussila, Miss. Katriina\", \"Sex\": \"female\", \"Age\": 20.0, \"SibSp\": 1, \"Parch\": 0, \"Ticket\": \"4136\", \"Fare\": 9.825, \"Cabin\": \"NA\", \"Embarked\": \"S\"}, {\"PassengerId\": 115, \"Survived\": false, \"Pclass\": 3, \"Name\": \"Attalah, Miss. Malake\", \"Sex\": \"female\", \"Age\": 17.0, \"SibSp\": 0, \"Parch\": 0, \"Ticket\": \"2627\", \"Fare\": 14.4583, \"Cabin\": \"NA\", \"Embarked\": \"C\"}, {\"PassengerId\": 116, \"Survived\": false, \"Pclass\": 3, \"Name\": \"Pekoniemi, Mr. Edvard\", \"Sex\": \"male\", \"Age\": 21.0, \"SibSp\": 0, \"Parch\": 0, \"Ticket\": \"STON/O 2. 3101294\", \"Fare\": 7.925, \"Cabin\": \"NA\", \"Embarked\": \"S\"}, {\"PassengerId\": 117, \"Survived\": false, \"Pclass\": 3, \"Name\": \"Connors, Mr. Patrick\", \"Sex\": \"male\", \"Age\": 70.5, \"SibSp\": 0, \"Parch\": 0, \"Ticket\": \"370369\", \"Fare\": 7.75, \"Cabin\": \"NA\", \"Embarked\": \"Q\"}, {\"PassengerId\": 118, \"Survived\": false, \"Pclass\": 2, \"Name\": \"Turpin, Mr. William John Robert\", \"Sex\": \"male\", \"Age\": 29.0, \"SibSp\": 1, \"Parch\": 0, \"Ticket\": \"11668\", \"Fare\": 21.0, \"Cabin\": \"NA\", \"Embarked\": \"S\"}, {\"PassengerId\": 119, \"Survived\": false, \"Pclass\": 1, \"Name\": \"Baxter, Mr. Quigg Edmond\", \"Sex\": \"male\", \"Age\": 24.0, \"SibSp\": 0, \"Parch\": 1, \"Ticket\": \"PC 17558\", \"Fare\": 247.5208, \"Cabin\": \"B58 B60\", \"Embarked\": \"C\"}, {\"PassengerId\": 120, \"Survived\": false, \"Pclass\": 3, \"Name\": \"Andersson, Miss. Ellis Anna Maria\", \"Sex\": \"female\", \"Age\": 2.0, \"SibSp\": 4, \"Parch\": 2, \"Ticket\": \"347082\", \"Fare\": 31.275, \"Cabin\": \"NA\", \"Embarked\": \"S\"}, {\"PassengerId\": 121, \"Survived\": false, \"Pclass\": 2, \"Name\": \"Hickman, Mr. Stanley George\", \"Sex\": \"male\", \"Age\": 21.0, \"SibSp\": 2, \"Parch\": 0, \"Ticket\": \"S.O.C. 14879\", \"Fare\": 73.5, \"Cabin\": \"NA\", \"Embarked\": \"S\"}, {\"PassengerId\": 122, \"Survived\": false, \"Pclass\": 3, \"Name\": \"Moore, Mr. Leonard Charles\", \"Sex\": \"male\", \"Age\": null, \"SibSp\": 0, \"Parch\": 0, \"Ticket\": \"A4. 54510\", \"Fare\": 8.05, \"Cabin\": \"NA\", \"Embarked\": \"S\"}, {\"PassengerId\": 123, \"Survived\": false, \"Pclass\": 2, \"Name\": \"Nasser, Mr. Nicholas\", \"Sex\": \"male\", \"Age\": 32.5, \"SibSp\": 1, \"Parch\": 0, \"Ticket\": \"237736\", \"Fare\": 30.0708, \"Cabin\": \"NA\", \"Embarked\": \"C\"}, {\"PassengerId\": 124, \"Survived\": true, \"Pclass\": 2, \"Name\": \"Webber, Miss. Susan\", \"Sex\": \"female\", \"Age\": 32.5, \"SibSp\": 0, \"Parch\": 0, \"Ticket\": \"27267\", \"Fare\": 13.0, \"Cabin\": \"E101\", \"Embarked\": \"S\"}, {\"PassengerId\": 125, \"Survived\": false, \"Pclass\": 1, \"Name\": \"White, Mr. Percival Wayland\", \"Sex\": \"male\", \"Age\": 54.0, \"SibSp\": 0, \"Parch\": 1, \"Ticket\": \"35281\", \"Fare\": 77.2875, \"Cabin\": \"D26\", \"Embarked\": \"S\"}, {\"PassengerId\": 126, \"Survived\": true, \"Pclass\": 3, \"Name\": \"Nicola-Yarred, Master. Elias\", \"Sex\": \"male\", \"Age\": 12.0, \"SibSp\": 1, \"Parch\": 0, \"Ticket\": \"2651\", \"Fare\": 11.2417, \"Cabin\": \"NA\", \"Embarked\": \"C\"}, {\"PassengerId\": 127, \"Survived\": false, \"Pclass\": 3, \"Name\": \"McMahon, Mr. Martin\", \"Sex\": \"male\", \"Age\": null, \"SibSp\": 0, \"Parch\": 0, \"Ticket\": \"370372\", \"Fare\": 7.75, \"Cabin\": \"NA\", \"Embarked\": \"Q\"}, {\"PassengerId\": 128, \"Survived\": true, \"Pclass\": 3, \"Name\": \"Madsen, Mr. Fridtjof Arne\", \"Sex\": \"male\", \"Age\": 24.0, \"SibSp\": 0, \"Parch\": 0, \"Ticket\": \"C 17369\", \"Fare\": 7.1417, \"Cabin\": \"NA\", \"Embarked\": \"S\"}, {\"PassengerId\": 129, \"Survived\": true, \"Pclass\": 3, \"Name\": \"Peter, Miss. Anna\", \"Sex\": \"female\", \"Age\": null, \"SibSp\": 1, \"Parch\": 1, \"Ticket\": \"2668\", \"Fare\": 22.3583, \"Cabin\": \"F E69\", \"Embarked\": \"C\"}, {\"PassengerId\": 130, \"Survived\": false, \"Pclass\": 3, \"Name\": \"Ekstrom, Mr. Johan\", \"Sex\": \"male\", \"Age\": 45.0, \"SibSp\": 0, \"Parch\": 0, \"Ticket\": \"347061\", \"Fare\": 6.975, \"Cabin\": \"NA\", \"Embarked\": \"S\"}, {\"PassengerId\": 131, \"Survived\": false, \"Pclass\": 3, \"Name\": \"Drazenoic, Mr. Jozef\", \"Sex\": \"male\", \"Age\": 33.0, \"SibSp\": 0, \"Parch\": 0, \"Ticket\": \"349241\", \"Fare\": 7.8958, \"Cabin\": \"NA\", \"Embarked\": \"C\"}, {\"PassengerId\": 132, \"Survived\": false, \"Pclass\": 3, \"Name\": \"Coelho, Mr. Domingos Fernandeo\", \"Sex\": \"male\", \"Age\": 20.0, \"SibSp\": 0, \"Parch\": 0, \"Ticket\": \"SOTON/O.Q. 3101307\", \"Fare\": 7.05, \"Cabin\": \"NA\", \"Embarked\": \"S\"}, {\"PassengerId\": 133, \"Survived\": false, \"Pclass\": 3, \"Name\": \"Robins, Mrs. Alexander A (Grace Charity Laury)\", \"Sex\": \"female\", \"Age\": 47.0, \"SibSp\": 1, \"Parch\": 0, \"Ticket\": \"A/5. 3337\", \"Fare\": 14.5, \"Cabin\": \"NA\", \"Embarked\": \"S\"}, {\"PassengerId\": 134, \"Survived\": true, \"Pclass\": 2, \"Name\": \"Weisz, Mrs. Leopold (Mathilde Francoise Pede)\", \"Sex\": \"female\", \"Age\": 29.0, \"SibSp\": 1, \"Parch\": 0, \"Ticket\": \"228414\", \"Fare\": 26.0, \"Cabin\": \"NA\", \"Embarked\": \"S\"}, {\"PassengerId\": 135, \"Survived\": false, \"Pclass\": 2, \"Name\": \"Sobey, Mr. Samuel James Hayden\", \"Sex\": \"male\", \"Age\": 25.0, \"SibSp\": 0, \"Parch\": 0, \"Ticket\": \"C.A. 29178\", \"Fare\": 13.0, \"Cabin\": \"NA\", \"Embarked\": \"S\"}, {\"PassengerId\": 136, \"Survived\": false, \"Pclass\": 2, \"Name\": \"Richard, Mr. Emile\", \"Sex\": \"male\", \"Age\": 23.0, \"SibSp\": 0, \"Parch\": 0, \"Ticket\": \"SC/PARIS 2133\", \"Fare\": 15.0458, \"Cabin\": \"NA\", \"Embarked\": \"C\"}, {\"PassengerId\": 137, \"Survived\": true, \"Pclass\": 1, \"Name\": \"Newsom, Miss. Helen Monypeny\", \"Sex\": \"female\", \"Age\": 19.0, \"SibSp\": 0, \"Parch\": 2, \"Ticket\": \"11752\", \"Fare\": 26.2833, \"Cabin\": \"D47\", \"Embarked\": \"S\"}, {\"PassengerId\": 138, \"Survived\": false, \"Pclass\": 1, \"Name\": \"Futrelle, Mr. Jacques Heath\", \"Sex\": \"male\", \"Age\": 37.0, \"SibSp\": 1, \"Parch\": 0, \"Ticket\": \"113803\", \"Fare\": 53.1, \"Cabin\": \"C123\", \"Embarked\": \"S\"}, {\"PassengerId\": 139, \"Survived\": false, \"Pclass\": 3, \"Name\": \"Osen, Mr. Olaf Elon\", \"Sex\": \"male\", \"Age\": 16.0, \"SibSp\": 0, \"Parch\": 0, \"Ticket\": \"7534\", \"Fare\": 9.2167, \"Cabin\": \"NA\", \"Embarked\": \"S\"}, {\"PassengerId\": 140, \"Survived\": false, \"Pclass\": 1, \"Name\": \"Giglio, Mr. Victor\", \"Sex\": \"male\", \"Age\": 24.0, \"SibSp\": 0, \"Parch\": 0, \"Ticket\": \"PC 17593\", \"Fare\": 79.2, \"Cabin\": \"B86\", \"Embarked\": \"C\"}, {\"PassengerId\": 141, \"Survived\": false, \"Pclass\": 3, \"Name\": \"Boulos, Mrs. Joseph (Sultana)\", \"Sex\": \"female\", \"Age\": null, \"SibSp\": 0, \"Parch\": 2, \"Ticket\": \"2678\", \"Fare\": 15.2458, \"Cabin\": \"NA\", \"Embarked\": \"C\"}, {\"PassengerId\": 142, \"Survived\": true, \"Pclass\": 3, \"Name\": \"Nysten, Miss. Anna Sofia\", \"Sex\": \"female\", \"Age\": 22.0, \"SibSp\": 0, \"Parch\": 0, \"Ticket\": \"347081\", \"Fare\": 7.75, \"Cabin\": \"NA\", \"Embarked\": \"S\"}, {\"PassengerId\": 143, \"Survived\": true, \"Pclass\": 3, \"Name\": \"Hakkarainen, Mrs. Pekka Pietari (Elin Matilda Dolck)\", \"Sex\": \"female\", \"Age\": 24.0, \"SibSp\": 1, \"Parch\": 0, \"Ticket\": \"STON/O2. 3101279\", \"Fare\": 15.85, \"Cabin\": \"NA\", \"Embarked\": \"S\"}, {\"PassengerId\": 144, \"Survived\": false, \"Pclass\": 3, \"Name\": \"Burke, Mr. Jeremiah\", \"Sex\": \"male\", \"Age\": 19.0, \"SibSp\": 0, \"Parch\": 0, \"Ticket\": \"365222\", \"Fare\": 6.75, \"Cabin\": \"NA\", \"Embarked\": \"Q\"}, {\"PassengerId\": 145, \"Survived\": false, \"Pclass\": 2, \"Name\": \"Andrew, Mr. Edgardo Samuel\", \"Sex\": \"male\", \"Age\": 18.0, \"SibSp\": 0, \"Parch\": 0, \"Ticket\": \"231945\", \"Fare\": 11.5, \"Cabin\": \"NA\", \"Embarked\": \"S\"}, {\"PassengerId\": 146, \"Survived\": false, \"Pclass\": 2, \"Name\": \"Nicholls, Mr. Joseph Charles\", \"Sex\": \"male\", \"Age\": 19.0, \"SibSp\": 1, \"Parch\": 1, \"Ticket\": \"C.A. 33112\", \"Fare\": 36.75, \"Cabin\": \"NA\", \"Embarked\": \"S\"}, {\"PassengerId\": 147, \"Survived\": true, \"Pclass\": 3, \"Name\": \"Andersson, Mr. August Edvard (\\\"Wennerstrom\\\")\", \"Sex\": \"male\", \"Age\": 27.0, \"SibSp\": 0, \"Parch\": 0, \"Ticket\": \"350043\", \"Fare\": 7.7958, \"Cabin\": \"NA\", \"Embarked\": \"S\"}, {\"PassengerId\": 148, \"Survived\": false, \"Pclass\": 3, \"Name\": \"Ford, Miss. Robina Maggie \\\"Ruby\\\"\", \"Sex\": \"female\", \"Age\": 9.0, \"SibSp\": 2, \"Parch\": 2, \"Ticket\": \"W./C. 6608\", \"Fare\": 34.375, \"Cabin\": \"NA\", \"Embarked\": \"S\"}, {\"PassengerId\": 149, \"Survived\": false, \"Pclass\": 2, \"Name\": \"Navratil, Mr. Michel (\\\"Louis M Hoffman\\\")\", \"Sex\": \"male\", \"Age\": 36.5, \"SibSp\": 0, \"Parch\": 2, \"Ticket\": \"230080\", \"Fare\": 26.0, \"Cabin\": \"F2\", \"Embarked\": \"S\"}, {\"PassengerId\": 150, \"Survived\": false, \"Pclass\": 2, \"Name\": \"Byles, Rev. Thomas Roussel Davids\", \"Sex\": \"male\", \"Age\": 42.0, \"SibSp\": 0, \"Parch\": 0, \"Ticket\": \"244310\", \"Fare\": 13.0, \"Cabin\": \"NA\", \"Embarked\": \"S\"}, {\"PassengerId\": 151, \"Survived\": false, \"Pclass\": 2, \"Name\": \"Bateman, Rev. Robert James\", \"Sex\": \"male\", \"Age\": 51.0, \"SibSp\": 0, \"Parch\": 0, \"Ticket\": \"S.O.P. 1166\", \"Fare\": 12.525, \"Cabin\": \"NA\", \"Embarked\": \"S\"}, {\"PassengerId\": 152, \"Survived\": true, \"Pclass\": 1, \"Name\": \"Pears, Mrs. Thomas (Edith Wearne)\", \"Sex\": \"female\", \"Age\": 22.0, \"SibSp\": 1, \"Parch\": 0, \"Ticket\": \"113776\", \"Fare\": 66.6, \"Cabin\": \"C2\", \"Embarked\": \"S\"}, {\"PassengerId\": 153, \"Survived\": false, \"Pclass\": 3, \"Name\": \"Meo, Mr. Alfonzo\", \"Sex\": \"male\", \"Age\": 55.5, \"SibSp\": 0, \"Parch\": 0, \"Ticket\": \"A.5. 11206\", \"Fare\": 8.05, \"Cabin\": \"NA\", \"Embarked\": \"S\"}, {\"PassengerId\": 154, \"Survived\": false, \"Pclass\": 3, \"Name\": \"van Billiard, Mr. Austin Blyler\", \"Sex\": \"male\", \"Age\": 40.5, \"SibSp\": 0, \"Parch\": 2, \"Ticket\": \"A/5. 851\", \"Fare\": 14.5, \"Cabin\": \"NA\", \"Embarked\": \"S\"}, {\"PassengerId\": 155, \"Survived\": false, \"Pclass\": 3, \"Name\": \"Olsen, Mr. Ole Martin\", \"Sex\": \"male\", \"Age\": null, \"SibSp\": 0, \"Parch\": 0, \"Ticket\": \"Fa 265302\", \"Fare\": 7.3125, \"Cabin\": \"NA\", \"Embarked\": \"S\"}, {\"PassengerId\": 156, \"Survived\": false, \"Pclass\": 1, \"Name\": \"Williams, Mr. Charles Duane\", \"Sex\": \"male\", \"Age\": 51.0, \"SibSp\": 0, \"Parch\": 1, \"Ticket\": \"PC 17597\", \"Fare\": 61.3792, \"Cabin\": \"NA\", \"Embarked\": \"C\"}]}}, {\"mode\": \"vega-lite\"});\n",
       "</script>"
      ],
      "text/plain": [
       "alt.FacetChart(...)"
      ]
     },
     "execution_count": 5,
     "metadata": {},
     "output_type": "execute_result"
    }
   ],
   "source": [
    "import altair as alt\n",
    "\n",
    "alt.Chart(data).mark_bar().encode(\n",
    "    alt.Y('count(Survived):Q'),\n",
    "    alt.X('Survived:N'),\n",
    "    alt.Color(\"Embarked:N\", sort=[\"C\",\"Q\",\"S\",\"NA\"]),\n",
    ").properties(\n",
    "    width=150,\n",
    "    height=150\n",
    ").facet(\n",
    "    row=alt.Row(\"Pclass:N\", sort=\"ascending\"),\n",
    "    column=alt.Column(\"Sex:N\", sort=\"ascending\")\n",
    ")"
   ]
  },
  {
   "cell_type": "markdown",
   "id": "8a7d2b9c-c105-4f26-95cb-d6c8a3eb28e5",
   "metadata": {},
   "source": [
    "* [【Python】グラフ作成ライブラリ Altair の使い方(2021年の記事)](https://qiita.com/keisuke-ota/items/80d64153c499c8cc4774)\n",
    "* [【Python】データ可視化ライブラリ Altair を使いこなす（2021年の記事）](https://qiita.com/keisuke-ota/items/aa93f45b3a9fc520541d)"
   ]
  },
  {
   "cell_type": "code",
   "execution_count": null,
   "id": "da4d6bde-30a4-429a-988a-3f7f3b2387b7",
   "metadata": {},
   "outputs": [],
   "source": []
  }
 ],
 "metadata": {
  "kernelspec": {
   "display_name": "Python 3 (ipykernel)",
   "language": "python",
   "name": "python3"
  },
  "language_info": {
   "codemirror_mode": {
    "name": "ipython",
    "version": 3
   },
   "file_extension": ".py",
   "mimetype": "text/x-python",
   "name": "python",
   "nbconvert_exporter": "python",
   "pygments_lexer": "ipython3",
   "version": "3.12.3"
  }
 },
 "nbformat": 4,
 "nbformat_minor": 5
}
